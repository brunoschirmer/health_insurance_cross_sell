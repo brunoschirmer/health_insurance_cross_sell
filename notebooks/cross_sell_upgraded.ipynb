{
 "cells": [
  {
   "cell_type": "markdown",
   "id": "381bfbb5",
   "metadata": {
    "ExecuteTime": {
     "end_time": "2021-06-04T14:55:48.735272Z",
     "start_time": "2021-06-04T14:55:48.363110Z"
    }
   },
   "source": [
    "# 0.0. CROSS-SELL PROJECT"
   ]
  },
  {
   "cell_type": "markdown",
   "id": "99f1899d",
   "metadata": {},
   "source": [
    "## 0.0. IMPORTS"
   ]
  },
  {
   "cell_type": "code",
   "execution_count": 5,
   "id": "5aaaa5b9",
   "metadata": {
    "ExecuteTime": {
     "end_time": "2021-06-07T13:53:48.785503Z",
     "start_time": "2021-06-07T13:53:48.780423Z"
    }
   },
   "outputs": [],
   "source": [
    "# data manipulation\n",
    "import pandas as pd\n",
    "import numpy  as np\n",
    "\n",
    "# data visutalization\n",
    "import matplotlib.pyplot as plt\n",
    "import seaborn           as sns\n",
    "\n",
    "# stats\n",
    "import scipy as ss\n",
    "\n",
    "#encoding\n",
    "from imblearn.combine      import SMOTETomek\n",
    "from sklearn.preprocessing import RobustScaler, MinMaxScaler, OneHotEncoder\n",
    "\n",
    "# feature selection\n",
    "from boruta                    import BorutaPy\n",
    "from sklearn.feature_selection import RFECV\n",
    "from yellowbrick.features      import Rank1D\n",
    "\n",
    "# modeling\n",
    "from sklearn.ensemble    import RandomForestClassifier\n",
    "from sklearn.ensemble    import ExtraTreesClassifier\n",
    "from sklearn.naive_bayes import GaussianNB\n",
    "from sklearn             import base\n",
    "from sklearn             import linear_model as lm\n",
    "from sklearn             import neighbors    as nh\n",
    "import                          xgboost      as xgb\n",
    "\n",
    "# model selection\n",
    "from sklearn.model_selection import KFold\n",
    "from sklearn.model_selection import StratifiedKFold\n",
    "\n",
    "#metrics\n",
    "import scikitplot as skplt\n",
    "from   sklearn.metrics import precision_score, recall_score, accuracy_score, balanced_accuracy_score\n",
    "\n",
    "# tuning\n",
    "import optuna\n",
    "\n",
    "#display\n",
    "from IPython.display       import Image\n",
    "from IPython.core.display  import HTML\n",
    "from matplotlib.pyplot import figure"
   ]
  },
  {
   "cell_type": "markdown",
   "id": "8405b6c6",
   "metadata": {},
   "source": [
    "## 0.1. HELPER FUNCTIONS"
   ]
  },
  {
   "cell_type": "code",
   "execution_count": 6,
   "id": "18e80c17",
   "metadata": {
    "ExecuteTime": {
     "end_time": "2021-06-07T13:53:49.182645Z",
     "start_time": "2021-06-07T13:53:49.138793Z"
    }
   },
   "outputs": [],
   "source": [
    "def jupyter_settings():\n",
    "    %matplotlib inline\n",
    "    %pylab inline\n",
    "    \n",
    "    plt.style.use( 'fivethirtyeight' )\n",
    "    plt.rcParams['figure.figsize'] = [20, 8]\n",
    "    plt.rcParams['font.size'] = 24\n",
    "    plt.rcParams['font.family'] = 'serif'\n",
    "    plt.rcParams['font.serif'] = 'Ubuntu'\n",
    "    plt.rcParams['font.monospace'] = 'Ubuntu Mono'\n",
    "    plt.rcParams['font.size'] = 12\n",
    "    plt.rcParams['axes.labelsize'] = 14\n",
    "    plt.rcParams['axes.labelweight'] = 'bold'\n",
    "    plt.rcParams['axes.titlesize'] = 15\n",
    "    plt.rcParams['xtick.labelsize'] = 10\n",
    "    plt.rcParams['ytick.labelsize'] = 10\n",
    "    plt.rcParams['legend.fontsize'] = 12\n",
    "    plt.rcParams['figure.titlesize'] = 12\n",
    "    \n",
    "    display( HTML( '<style>.container { width:80% !important; }</style>') )\n",
    "    pd.options.display.max_columns = None\n",
    "    pd.options.display.max_rows = None\n",
    "    pd.set_option( 'display.expand_frame_repr', False )\n",
    "    \n",
    "    #sns.set()\n",
    "    sns.set_style('ticks')\n",
    "    \n",
    "\n",
    "def get_summary(numerical_attributes):\n",
    "    \n",
    "    # Central Tendency - mean, meadina \n",
    "    ct1 = pd.DataFrame( numerical_attributes.apply( np.mean ) ).T\n",
    "    ct2 = pd.DataFrame( numerical_attributes.apply( np.median ) ).T\n",
    "\n",
    "    # dispersion - std, min, max, range, skew, kurtosis\n",
    "    d1 = pd.DataFrame( numerical_attributes.apply( np.std ) ).T \n",
    "    d2 = pd.DataFrame( numerical_attributes.apply( min ) ).T \n",
    "    d3 = pd.DataFrame( numerical_attributes.apply( max ) ).T \n",
    "    d4 = pd.DataFrame( numerical_attributes.apply( lambda x: x.max() - x.min() ) ).T \n",
    "    d5 = pd.DataFrame( numerical_attributes.apply( lambda x: x.skew() ) ).T \n",
    "    d6 = pd.DataFrame( numerical_attributes.apply( lambda x: x.kurtosis() ) ).T \n",
    "\n",
    "    # concatenar\n",
    "    m = pd.concat( [d2, d3, d4, ct1, ct2, d1, d5, d6] ).T.reset_index()\n",
    "    m.columns = ['attributes', 'min', 'max', 'range', 'mean', 'median', 'std', 'skew', 'kurtosis']\n",
    "    \n",
    "    return m\n",
    "\n",
    "\n",
    "\n",
    "class KFoldTargetEncoder(base.BaseEstimator,base.TransformerMixin):\n",
    "    \n",
    "    def __init__(self,colnames,targetName,\n",
    "                  n_fold=5, verbosity=True,\n",
    "                  discardOriginal_col=False):\n",
    "        self.colnames = colnames\n",
    "        self.targetName = targetName\n",
    "        self.n_fold = n_fold\n",
    "        self.verbosity = verbosity\n",
    "        self.discardOriginal_col = discardOriginal_col\n",
    "        \n",
    "    def fit(self, X, y=None):\n",
    "        \n",
    "        return self\n",
    "    \n",
    "    \n",
    "    def transform(self,X):\n",
    "    \n",
    "        mean_of_target = X[self.targetName].mean()\n",
    "        kf = KFold(n_splits = self.n_fold,\n",
    "                   shuffle = True, random_state=2021)\n",
    "        print(kf)\n",
    "        col_mean_name = self.colnames + '_' + 'Kfold_Target_Enc'\n",
    "        X[col_mean_name] = np.nan\n",
    "        \n",
    "        for tr_ind, val_ind in kf.split(X):\n",
    "            X_tr, X_val = X.iloc[tr_ind], X.iloc[val_ind]\n",
    "            \n",
    "            #train set and validation set\n",
    "            X.loc[X.index[val_ind], col_mean_name] = X_val[self.colnames].map(X_tr.groupby(self.colnames)\n",
    "                                     [self.targetName].mean())\n",
    "            \n",
    "            #test set you take the average of the target values of all samples that have a given category in the entire train set.\n",
    "            X[col_mean_name].fillna(mean_of_target, inplace = True)\n",
    "            \n",
    "        if self.verbosity:\n",
    "            encoded_feature = X[col_mean_name].values\n",
    "            print('Correlation between the new feature, {} and, {} is {}.'.format(col_mean_name,self.targetName,                    \n",
    "                   np.corrcoef(X[self.targetName].values,\n",
    "                               encoded_feature)[0][1]))\n",
    "            \n",
    "        if self.discardOriginal_col:\n",
    "            X = X.drop(self.targetName, axis=1)\n",
    "            \n",
    "        return X\n",
    "\n",
    "\n",
    "\n",
    "def precision_at_k( data, k = 20000 ):\n",
    "    # reset index\n",
    "    data = data.reset_index( drop=True )\n",
    "\n",
    "    # create ranking order\n",
    "    data['ranking'] = data.index + 1 \n",
    "\n",
    "    data['precision_at_k'] = data['response'].cumsum() / data['ranking']\n",
    "\n",
    "    return data.loc[k, 'precision_at_k']\n",
    "\n",
    "\n",
    "\n",
    "def recall_at_k( data, k = 20000 ):\n",
    "    # reset index\n",
    "    data = data.reset_index( drop = True )\n",
    "\n",
    "    # create ranking order\n",
    "    data['ranking'] = data.index + 1 \n",
    "\n",
    "    data['recall_at_k'] = data['response'].cumsum() / data['response'].sum()\n",
    "\n",
    "    return data.loc[k, 'recall_at_k']\n",
    "\n",
    "\n",
    "    \n",
    "def cross_validation(model, x_train, y_train, k, data, Verbose = True):\n",
    "    \n",
    "    kfold = StratifiedKFold(n_splits=k, shuffle=True, random_state=28)\n",
    "    precision_list = []\n",
    "    recall_list = []\n",
    "    precision_k_list = []\n",
    "    recall_k_list = []\n",
    "    balanced_list = []\n",
    "    i=1\n",
    "\n",
    "    for train_cv, val_cv in kfold.split(x_train, y_train):\n",
    "        \n",
    "        if Verbose == True:\n",
    "            \n",
    "            print(f'Fold Number {i}/{k}')\n",
    "            \n",
    "        else:\n",
    "            pass\n",
    "        \n",
    "        x_train_fold = x_train.iloc[train_cv]\n",
    "        y_train_fold = y_train.iloc[train_cv]\n",
    "        x_val_fold = x_train.iloc[val_cv]\n",
    "        y_val_fold = y_train.iloc[val_cv]\n",
    "\n",
    "        model_fit = model.fit(x_train_fold, y_train_fold.values.ravel())\n",
    "        yhat = model.predict_proba(x_val_fold)\n",
    "        yhat_1 = model.predict(x_val_fold)\n",
    "        \n",
    "        \n",
    "        data = x_val_fold.copy()\n",
    "        data['response'] = y_val_fold.copy()\n",
    "        data['score'] = yhat[:, 1].tolist()\n",
    "        data = data.sort_values('score', ascending=False)\n",
    "\n",
    "        precision_k = precision_at_k(data, k = 20000)\n",
    "        precision_k_list.append(precision_k,)\n",
    "        \n",
    "        recall_k = recall_at_k(data, k = 20000)\n",
    "        recall_k_list.append(recall_k)\n",
    "        \n",
    "        precision = precision_score(y_val_fold, yhat_1)\n",
    "        precision_list.append(precision)\n",
    "        \n",
    "        recall = recall_score(y_val_fold, yhat_1)\n",
    "        recall_list.append(recall)\n",
    "\n",
    "        balanced_accuracy = accuracy_score(y_val_fold, yhat_1)\n",
    "        balanced_list.append(balanced_accuracy)\n",
    "            \n",
    "        \n",
    "        i+=1\n",
    "        \n",
    "    df = pd.DataFrame({'Model Name': type(model).__name__, \n",
    "                       'Accuracy Mean': np.mean(balanced_list).round(4),\n",
    "                       'Precision Mean': np.mean(precision_list).round(4),\n",
    "                       'Precision STD': np.std(precision_list).round(4),\n",
    "                       'Recall Mean': np.mean(recall_list).round(4),\n",
    "                       'Recall STD': np.std(recall_list).round(4),\n",
    "                       'Precision@K Mean': np.mean(precision_k_list).round(4), \n",
    "                       'Precision@K STD': np.std(precision_k_list).round(4),\n",
    "                       'Recall@K Mean': np.mean(recall_k_list).round(4), \n",
    "                       'Recall@K STD': np.std(recall_k_list).round(4)}, index = [0])\n",
    "\n",
    "    return df\n",
    "\n",
    "#Suppress scientific notation\n",
    "pd.options.display.float_format = '{:.2f}'.format"
   ]
  },
  {
   "cell_type": "markdown",
   "id": "400593a0",
   "metadata": {
    "ExecuteTime": {
     "end_time": "2021-06-04T14:59:46.211921Z",
     "start_time": "2021-06-04T14:59:46.209371Z"
    },
    "heading_collapsed": true
   },
   "source": [
    "## 0.2. LOADING DATA"
   ]
  },
  {
   "cell_type": "code",
   "execution_count": 7,
   "id": "aaa92bff",
   "metadata": {
    "ExecuteTime": {
     "end_time": "2021-06-07T13:53:49.824527Z",
     "start_time": "2021-06-07T13:53:49.529967Z"
    },
    "hidden": true
   },
   "outputs": [],
   "source": [
    "df = pd.read_csv('../data/raw/train.csv')"
   ]
  },
  {
   "cell_type": "code",
   "execution_count": 8,
   "id": "8a70f58c",
   "metadata": {
    "ExecuteTime": {
     "end_time": "2021-06-07T13:53:49.841927Z",
     "start_time": "2021-06-07T13:53:49.826623Z"
    },
    "hidden": true
   },
   "outputs": [
    {
     "data": {
      "text/html": [
       "<div>\n",
       "<style scoped>\n",
       "    .dataframe tbody tr th:only-of-type {\n",
       "        vertical-align: middle;\n",
       "    }\n",
       "\n",
       "    .dataframe tbody tr th {\n",
       "        vertical-align: top;\n",
       "    }\n",
       "\n",
       "    .dataframe thead th {\n",
       "        text-align: right;\n",
       "    }\n",
       "</style>\n",
       "<table border=\"1\" class=\"dataframe\">\n",
       "  <thead>\n",
       "    <tr style=\"text-align: right;\">\n",
       "      <th></th>\n",
       "      <th>id</th>\n",
       "      <th>Gender</th>\n",
       "      <th>Age</th>\n",
       "      <th>Driving_License</th>\n",
       "      <th>Region_Code</th>\n",
       "      <th>Previously_Insured</th>\n",
       "      <th>Vehicle_Age</th>\n",
       "      <th>Vehicle_Damage</th>\n",
       "      <th>Annual_Premium</th>\n",
       "      <th>Policy_Sales_Channel</th>\n",
       "      <th>Vintage</th>\n",
       "      <th>Response</th>\n",
       "    </tr>\n",
       "  </thead>\n",
       "  <tbody>\n",
       "    <tr>\n",
       "      <th>0</th>\n",
       "      <td>1</td>\n",
       "      <td>Male</td>\n",
       "      <td>44</td>\n",
       "      <td>1</td>\n",
       "      <td>28.00</td>\n",
       "      <td>0</td>\n",
       "      <td>&gt; 2 Years</td>\n",
       "      <td>Yes</td>\n",
       "      <td>40454.00</td>\n",
       "      <td>26.00</td>\n",
       "      <td>217</td>\n",
       "      <td>1</td>\n",
       "    </tr>\n",
       "    <tr>\n",
       "      <th>1</th>\n",
       "      <td>2</td>\n",
       "      <td>Male</td>\n",
       "      <td>76</td>\n",
       "      <td>1</td>\n",
       "      <td>3.00</td>\n",
       "      <td>0</td>\n",
       "      <td>1-2 Year</td>\n",
       "      <td>No</td>\n",
       "      <td>33536.00</td>\n",
       "      <td>26.00</td>\n",
       "      <td>183</td>\n",
       "      <td>0</td>\n",
       "    </tr>\n",
       "    <tr>\n",
       "      <th>2</th>\n",
       "      <td>3</td>\n",
       "      <td>Male</td>\n",
       "      <td>47</td>\n",
       "      <td>1</td>\n",
       "      <td>28.00</td>\n",
       "      <td>0</td>\n",
       "      <td>&gt; 2 Years</td>\n",
       "      <td>Yes</td>\n",
       "      <td>38294.00</td>\n",
       "      <td>26.00</td>\n",
       "      <td>27</td>\n",
       "      <td>1</td>\n",
       "    </tr>\n",
       "    <tr>\n",
       "      <th>3</th>\n",
       "      <td>4</td>\n",
       "      <td>Male</td>\n",
       "      <td>21</td>\n",
       "      <td>1</td>\n",
       "      <td>11.00</td>\n",
       "      <td>1</td>\n",
       "      <td>&lt; 1 Year</td>\n",
       "      <td>No</td>\n",
       "      <td>28619.00</td>\n",
       "      <td>152.00</td>\n",
       "      <td>203</td>\n",
       "      <td>0</td>\n",
       "    </tr>\n",
       "    <tr>\n",
       "      <th>4</th>\n",
       "      <td>5</td>\n",
       "      <td>Female</td>\n",
       "      <td>29</td>\n",
       "      <td>1</td>\n",
       "      <td>41.00</td>\n",
       "      <td>1</td>\n",
       "      <td>&lt; 1 Year</td>\n",
       "      <td>No</td>\n",
       "      <td>27496.00</td>\n",
       "      <td>152.00</td>\n",
       "      <td>39</td>\n",
       "      <td>0</td>\n",
       "    </tr>\n",
       "  </tbody>\n",
       "</table>\n",
       "</div>"
      ],
      "text/plain": [
       "   id  Gender  Age  Driving_License  Region_Code  Previously_Insured  \\\n",
       "0   1    Male   44                1        28.00                   0   \n",
       "1   2    Male   76                1         3.00                   0   \n",
       "2   3    Male   47                1        28.00                   0   \n",
       "3   4    Male   21                1        11.00                   1   \n",
       "4   5  Female   29                1        41.00                   1   \n",
       "\n",
       "  Vehicle_Age Vehicle_Damage  Annual_Premium  Policy_Sales_Channel  Vintage  \\\n",
       "0   > 2 Years            Yes        40454.00                 26.00      217   \n",
       "1    1-2 Year             No        33536.00                 26.00      183   \n",
       "2   > 2 Years            Yes        38294.00                 26.00       27   \n",
       "3    < 1 Year             No        28619.00                152.00      203   \n",
       "4    < 1 Year             No        27496.00                152.00       39   \n",
       "\n",
       "   Response  \n",
       "0         1  \n",
       "1         0  \n",
       "2         1  \n",
       "3         0  \n",
       "4         0  "
      ]
     },
     "execution_count": 8,
     "metadata": {},
     "output_type": "execute_result"
    }
   ],
   "source": [
    "df.head()"
   ]
  },
  {
   "cell_type": "markdown",
   "id": "817e0c3f",
   "metadata": {
    "heading_collapsed": true
   },
   "source": [
    "# 1.0 DATA DESCRIPTION"
   ]
  },
  {
   "cell_type": "markdown",
   "id": "16f43668",
   "metadata": {
    "heading_collapsed": true,
    "hidden": true
   },
   "source": [
    "## 1.1 CHECKING NAN, TYPES AND COLS"
   ]
  },
  {
   "cell_type": "code",
   "execution_count": 9,
   "id": "509ffcc0",
   "metadata": {
    "ExecuteTime": {
     "end_time": "2021-06-07T13:53:50.343466Z",
     "start_time": "2021-06-07T13:53:50.320766Z"
    },
    "hidden": true
   },
   "outputs": [],
   "source": [
    "df1 = df.copy()"
   ]
  },
  {
   "cell_type": "code",
   "execution_count": 10,
   "id": "54290414",
   "metadata": {
    "ExecuteTime": {
     "end_time": "2021-06-07T13:53:50.527267Z",
     "start_time": "2021-06-07T13:53:50.524268Z"
    },
    "hidden": true
   },
   "outputs": [],
   "source": [
    "# Lowering the letter cases\n",
    "df1.columns = map(str.lower, df1.columns)"
   ]
  },
  {
   "cell_type": "code",
   "execution_count": 11,
   "id": "10c12cf6",
   "metadata": {
    "ExecuteTime": {
     "end_time": "2021-06-07T13:53:50.747333Z",
     "start_time": "2021-06-07T13:53:50.743709Z"
    },
    "hidden": true
   },
   "outputs": [
    {
     "name": "stdout",
     "output_type": "stream",
     "text": [
      "Number of rows: 381109\n",
      "Number of columns: 12\n"
     ]
    }
   ],
   "source": [
    "# Checking number of rows and columns\n",
    "print ('Number of rows: {}'.format(df1.shape[0]))\n",
    "print ('Number of columns: {}'.format(df1.shape[1]))"
   ]
  },
  {
   "cell_type": "code",
   "execution_count": 12,
   "id": "f52296f7",
   "metadata": {
    "ExecuteTime": {
     "end_time": "2021-06-07T13:53:50.993112Z",
     "start_time": "2021-06-07T13:53:50.939045Z"
    },
    "hidden": true
   },
   "outputs": [
    {
     "data": {
      "text/plain": [
       "id                      0\n",
       "gender                  0\n",
       "age                     0\n",
       "driving_license         0\n",
       "region_code             0\n",
       "previously_insured      0\n",
       "vehicle_age             0\n",
       "vehicle_damage          0\n",
       "annual_premium          0\n",
       "policy_sales_channel    0\n",
       "vintage                 0\n",
       "response                0\n",
       "dtype: int64"
      ]
     },
     "execution_count": 12,
     "metadata": {},
     "output_type": "execute_result"
    }
   ],
   "source": [
    "#Checking NAs\n",
    "df1.isna().sum()"
   ]
  },
  {
   "cell_type": "code",
   "execution_count": 13,
   "id": "1cc575cb",
   "metadata": {
    "ExecuteTime": {
     "end_time": "2021-06-07T13:53:51.155360Z",
     "start_time": "2021-06-07T13:53:51.150323Z"
    },
    "hidden": true
   },
   "outputs": [
    {
     "data": {
      "text/plain": [
       "id                        int64\n",
       "gender                   object\n",
       "age                       int64\n",
       "driving_license           int64\n",
       "region_code             float64\n",
       "previously_insured        int64\n",
       "vehicle_age              object\n",
       "vehicle_damage           object\n",
       "annual_premium          float64\n",
       "policy_sales_channel    float64\n",
       "vintage                   int64\n",
       "response                  int64\n",
       "dtype: object"
      ]
     },
     "execution_count": 13,
     "metadata": {},
     "output_type": "execute_result"
    }
   ],
   "source": [
    "#Checking data types\n",
    "df1.dtypes"
   ]
  },
  {
   "cell_type": "markdown",
   "id": "2c8be8a9",
   "metadata": {
    "heading_collapsed": true,
    "hidden": true
   },
   "source": [
    "## 1.2. NUMERICAL ATTRIBUTES"
   ]
  },
  {
   "cell_type": "code",
   "execution_count": 14,
   "id": "d412b2d0",
   "metadata": {
    "ExecuteTime": {
     "end_time": "2021-06-07T13:53:51.570376Z",
     "start_time": "2021-06-07T13:53:51.542116Z"
    },
    "hidden": true
   },
   "outputs": [],
   "source": [
    "#Creating dataframes with categorical and numerical attributes\n",
    "num_attributes = df1.select_dtypes(include= ['int64', 'float64'])\n",
    "cat_attributes = df1.select_dtypes(exclude= ['int64', 'float64'])"
   ]
  },
  {
   "cell_type": "code",
   "execution_count": 15,
   "id": "d5347a6b",
   "metadata": {
    "ExecuteTime": {
     "end_time": "2021-06-07T13:53:52.603377Z",
     "start_time": "2021-06-07T13:53:51.894192Z"
    },
    "hidden": true
   },
   "outputs": [
    {
     "data": {
      "text/html": [
       "<div>\n",
       "<style scoped>\n",
       "    .dataframe tbody tr th:only-of-type {\n",
       "        vertical-align: middle;\n",
       "    }\n",
       "\n",
       "    .dataframe tbody tr th {\n",
       "        vertical-align: top;\n",
       "    }\n",
       "\n",
       "    .dataframe thead th {\n",
       "        text-align: right;\n",
       "    }\n",
       "</style>\n",
       "<table border=\"1\" class=\"dataframe\">\n",
       "  <thead>\n",
       "    <tr style=\"text-align: right;\">\n",
       "      <th></th>\n",
       "      <th>attributes</th>\n",
       "      <th>min</th>\n",
       "      <th>max</th>\n",
       "      <th>range</th>\n",
       "      <th>mean</th>\n",
       "      <th>median</th>\n",
       "      <th>std</th>\n",
       "      <th>skew</th>\n",
       "      <th>kurtosis</th>\n",
       "    </tr>\n",
       "  </thead>\n",
       "  <tbody>\n",
       "    <tr>\n",
       "      <th>0</th>\n",
       "      <td>id</td>\n",
       "      <td>1.00</td>\n",
       "      <td>381109.00</td>\n",
       "      <td>381108.00</td>\n",
       "      <td>190555.00</td>\n",
       "      <td>190555.00</td>\n",
       "      <td>110016.69</td>\n",
       "      <td>0.00</td>\n",
       "      <td>-1.20</td>\n",
       "    </tr>\n",
       "    <tr>\n",
       "      <th>1</th>\n",
       "      <td>age</td>\n",
       "      <td>20.00</td>\n",
       "      <td>85.00</td>\n",
       "      <td>65.00</td>\n",
       "      <td>38.82</td>\n",
       "      <td>36.00</td>\n",
       "      <td>15.51</td>\n",
       "      <td>0.67</td>\n",
       "      <td>-0.57</td>\n",
       "    </tr>\n",
       "    <tr>\n",
       "      <th>2</th>\n",
       "      <td>driving_license</td>\n",
       "      <td>0.00</td>\n",
       "      <td>1.00</td>\n",
       "      <td>1.00</td>\n",
       "      <td>1.00</td>\n",
       "      <td>1.00</td>\n",
       "      <td>0.05</td>\n",
       "      <td>-21.60</td>\n",
       "      <td>464.35</td>\n",
       "    </tr>\n",
       "    <tr>\n",
       "      <th>3</th>\n",
       "      <td>region_code</td>\n",
       "      <td>0.00</td>\n",
       "      <td>52.00</td>\n",
       "      <td>52.00</td>\n",
       "      <td>26.39</td>\n",
       "      <td>28.00</td>\n",
       "      <td>13.23</td>\n",
       "      <td>-0.12</td>\n",
       "      <td>-0.87</td>\n",
       "    </tr>\n",
       "    <tr>\n",
       "      <th>4</th>\n",
       "      <td>previously_insured</td>\n",
       "      <td>0.00</td>\n",
       "      <td>1.00</td>\n",
       "      <td>1.00</td>\n",
       "      <td>0.46</td>\n",
       "      <td>0.00</td>\n",
       "      <td>0.50</td>\n",
       "      <td>0.17</td>\n",
       "      <td>-1.97</td>\n",
       "    </tr>\n",
       "    <tr>\n",
       "      <th>5</th>\n",
       "      <td>annual_premium</td>\n",
       "      <td>2630.00</td>\n",
       "      <td>540165.00</td>\n",
       "      <td>537535.00</td>\n",
       "      <td>30564.39</td>\n",
       "      <td>31669.00</td>\n",
       "      <td>17213.13</td>\n",
       "      <td>1.77</td>\n",
       "      <td>34.00</td>\n",
       "    </tr>\n",
       "    <tr>\n",
       "      <th>6</th>\n",
       "      <td>policy_sales_channel</td>\n",
       "      <td>1.00</td>\n",
       "      <td>163.00</td>\n",
       "      <td>162.00</td>\n",
       "      <td>112.03</td>\n",
       "      <td>133.00</td>\n",
       "      <td>54.20</td>\n",
       "      <td>-0.90</td>\n",
       "      <td>-0.97</td>\n",
       "    </tr>\n",
       "    <tr>\n",
       "      <th>7</th>\n",
       "      <td>vintage</td>\n",
       "      <td>10.00</td>\n",
       "      <td>299.00</td>\n",
       "      <td>289.00</td>\n",
       "      <td>154.35</td>\n",
       "      <td>154.00</td>\n",
       "      <td>83.67</td>\n",
       "      <td>0.00</td>\n",
       "      <td>-1.20</td>\n",
       "    </tr>\n",
       "    <tr>\n",
       "      <th>8</th>\n",
       "      <td>response</td>\n",
       "      <td>0.00</td>\n",
       "      <td>1.00</td>\n",
       "      <td>1.00</td>\n",
       "      <td>0.12</td>\n",
       "      <td>0.00</td>\n",
       "      <td>0.33</td>\n",
       "      <td>2.30</td>\n",
       "      <td>3.30</td>\n",
       "    </tr>\n",
       "  </tbody>\n",
       "</table>\n",
       "</div>"
      ],
      "text/plain": [
       "             attributes     min       max     range      mean    median  \\\n",
       "0                    id    1.00 381109.00 381108.00 190555.00 190555.00   \n",
       "1                   age   20.00     85.00     65.00     38.82     36.00   \n",
       "2       driving_license    0.00      1.00      1.00      1.00      1.00   \n",
       "3           region_code    0.00     52.00     52.00     26.39     28.00   \n",
       "4    previously_insured    0.00      1.00      1.00      0.46      0.00   \n",
       "5        annual_premium 2630.00 540165.00 537535.00  30564.39  31669.00   \n",
       "6  policy_sales_channel    1.00    163.00    162.00    112.03    133.00   \n",
       "7               vintage   10.00    299.00    289.00    154.35    154.00   \n",
       "8              response    0.00      1.00      1.00      0.12      0.00   \n",
       "\n",
       "        std   skew  kurtosis  \n",
       "0 110016.69   0.00     -1.20  \n",
       "1     15.51   0.67     -0.57  \n",
       "2      0.05 -21.60    464.35  \n",
       "3     13.23  -0.12     -0.87  \n",
       "4      0.50   0.17     -1.97  \n",
       "5  17213.13   1.77     34.00  \n",
       "6     54.20  -0.90     -0.97  \n",
       "7     83.67   0.00     -1.20  \n",
       "8      0.33   2.30      3.30  "
      ]
     },
     "execution_count": 15,
     "metadata": {},
     "output_type": "execute_result"
    }
   ],
   "source": [
    "#Checking numerical attributes. Mainly stats. Distribuition, possible outliers and quick insights\n",
    "#https://pkghosh.wordpress.com/2017/10/09/combating-high-cardinality-features-in-supervised-machine-learning/\n",
    "get_summary(num_attributes)"
   ]
  },
  {
   "cell_type": "markdown",
   "id": "ddfb5617",
   "metadata": {
    "heading_collapsed": true,
    "hidden": true
   },
   "source": [
    "## 1.3. CATEGORICAL ATTRIBUTES"
   ]
  },
  {
   "cell_type": "code",
   "execution_count": 16,
   "id": "46466003",
   "metadata": {
    "ExecuteTime": {
     "end_time": "2021-06-07T13:53:52.655393Z",
     "start_time": "2021-06-07T13:53:52.605405Z"
    },
    "hidden": true
   },
   "outputs": [
    {
     "data": {
      "text/plain": [
       "gender                             [Male, Female]\n",
       "vehicle_age       [> 2 Years, 1-2 Year, < 1 Year]\n",
       "vehicle_damage                          [Yes, No]\n",
       "dtype: object"
      ]
     },
     "execution_count": 16,
     "metadata": {},
     "output_type": "execute_result"
    }
   ],
   "source": [
    "cat_attributes.apply(lambda x: x.unique())"
   ]
  },
  {
   "cell_type": "code",
   "execution_count": 17,
   "id": "e3ccffe1",
   "metadata": {
    "ExecuteTime": {
     "end_time": "2021-06-07T13:54:02.840804Z",
     "start_time": "2021-06-07T13:53:52.657304Z"
    },
    "hidden": true
   },
   "outputs": [
    {
     "data": {
      "text/plain": [
       "<AxesSubplot:xlabel='vehicle_damage', ylabel='response'>"
      ]
     },
     "execution_count": 17,
     "metadata": {},
     "output_type": "execute_result"
    },
    {
     "data": {
      "image/png": "[encoded data removed]",
      "text/plain": [
       "<Figure size 1040x480 with 3 Axes>"
      ]
     },
     "metadata": {},
     "output_type": "display_data"
    }
   ],
   "source": [
    "figure(figsize=(13, 6), dpi=80)\n",
    "\n",
    "plt.subplot (1,3,1)\n",
    "sns.barplot(x='gender', y='response', data =df1)\n",
    "\n",
    "plt.subplot (1,3,2)\n",
    "sns.barplot(x='vehicle_age', y='response', data =df1)\n",
    "\n",
    "\n",
    "plt.subplot (1,3,3)\n",
    "sns.barplot(x='vehicle_damage', y='response', data =df1)"
   ]
  },
  {
   "cell_type": "markdown",
   "id": "073f119e",
   "metadata": {
    "heading_collapsed": true,
    "hidden": true
   },
   "source": [
    "## 1.4. TARGET VARIABLE"
   ]
  },
  {
   "cell_type": "code",
   "execution_count": 18,
   "id": "db325f5f",
   "metadata": {
    "ExecuteTime": {
     "end_time": "2021-06-07T13:54:02.848619Z",
     "start_time": "2021-06-07T13:54:02.842508Z"
    },
    "hidden": true
   },
   "outputs": [
    {
     "data": {
      "text/plain": [
       "0   0.88\n",
       "1   0.12\n",
       "Name: response, dtype: float64"
      ]
     },
     "execution_count": 18,
     "metadata": {},
     "output_type": "execute_result"
    }
   ],
   "source": [
    "#Checking the % of responders who wants and doesnt. 88% do not want insurance, 12% do.\n",
    "df1['response'].value_counts().apply(lambda x: x/len(df1))"
   ]
  },
  {
   "cell_type": "code",
   "execution_count": 19,
   "id": "7aade182",
   "metadata": {
    "ExecuteTime": {
     "end_time": "2021-06-07T13:54:03.040197Z",
     "start_time": "2021-06-07T13:54:02.850606Z"
    },
    "hidden": true
   },
   "outputs": [
    {
     "data": {
      "image/png": "[encoded data removed]",
      "text/plain": [
       "<Figure size 576x396 with 1 Axes>"
      ]
     },
     "metadata": {},
     "output_type": "display_data"
    }
   ],
   "source": [
    "sns.histplot(df1, x='response')\n",
    "sns.despine(offset = 30, trim = True)"
   ]
  },
  {
   "cell_type": "markdown",
   "id": "8d0a48e8",
   "metadata": {
    "heading_collapsed": true
   },
   "source": [
    "# 2.0. EXPLORATORY DATA ANALYSIS"
   ]
  },
  {
   "cell_type": "markdown",
   "id": "f1a0a7ab",
   "metadata": {
    "heading_collapsed": true,
    "hidden": true
   },
   "source": [
    "## 2.0.1 HYPOTHESYS"
   ]
  },
  {
   "cell_type": "markdown",
   "id": "5d024edf",
   "metadata": {
    "hidden": true
   },
   "source": [
    "- People is equaly interested in insurance regardless their gender **FALSE**\n",
    "- The older the vehicle the greater is the interest in acquiring an insurance **TRUE****\n",
    "- If the owner damaged his vehicle before, he is more likely to acquire an insurance **TRUE**\n",
    "- People who has driving license are more interested in insurance **TRUE**\n",
    "- Different regions have different interesst in insurance **TRUE**\n",
    "- Different policy sales channel have different outcome for the customer **TRUE**\n",
    "- Who was previosly insured is less likely to acquire a new insurance service (had already showed commitment) **TRUE**\n",
    "- The higher Annual Premium, the lower interest in insurance **FALSE**\n",
    "- The higher vintage, the higher interest in insurance **FALSE**\n",
    "- The higher age, the higher interest in insurance **TRUE**"
   ]
  },
  {
   "cell_type": "code",
   "execution_count": 20,
   "id": "ba0381ed",
   "metadata": {
    "ExecuteTime": {
     "end_time": "2021-06-07T13:54:03.062593Z",
     "start_time": "2021-06-07T13:54:03.042707Z"
    },
    "hidden": true
   },
   "outputs": [],
   "source": [
    "df2 = df1.copy()"
   ]
  },
  {
   "cell_type": "markdown",
   "id": "bb154ba2",
   "metadata": {
    "ExecuteTime": {
     "end_time": "2021-06-04T15:46:01.654920Z",
     "start_time": "2021-06-04T15:46:01.652546Z"
    },
    "heading_collapsed": true,
    "hidden": true
   },
   "source": [
    "## 2.1. People who has driving license are more interested in insurance"
   ]
  },
  {
   "cell_type": "code",
   "execution_count": 21,
   "id": "ac8f4cc0",
   "metadata": {
    "ExecuteTime": {
     "end_time": "2021-06-07T13:54:03.185987Z",
     "start_time": "2021-06-07T13:54:03.064291Z"
    },
    "hidden": true
   },
   "outputs": [
    {
     "data": {
      "text/plain": [
       "<AxesSubplot:xlabel='response', ylabel='driving_license'>"
      ]
     },
     "execution_count": 21,
     "metadata": {},
     "output_type": "execute_result"
    },
    {
     "data": {
      "image/png": "[encoded data removed]",
      "text/plain": [
       "<Figure size 576x396 with 1 Axes>"
      ]
     },
     "metadata": {},
     "output_type": "display_data"
    }
   ],
   "source": [
    "aux = df2[['driving_license', 'response']].groupby('response').sum().reset_index()\n",
    "aux\n",
    "sns.barplot(x='response', y='driving_license', data=aux)"
   ]
  },
  {
   "cell_type": "code",
   "execution_count": 22,
   "id": "cc86b23e",
   "metadata": {
    "ExecuteTime": {
     "end_time": "2021-06-07T13:54:03.233963Z",
     "start_time": "2021-06-07T13:54:03.187557Z"
    },
    "hidden": true
   },
   "outputs": [
    {
     "data": {
      "text/html": [
       "<div>\n",
       "<style scoped>\n",
       "    .dataframe tbody tr th:only-of-type {\n",
       "        vertical-align: middle;\n",
       "    }\n",
       "\n",
       "    .dataframe tbody tr th {\n",
       "        vertical-align: top;\n",
       "    }\n",
       "\n",
       "    .dataframe thead th {\n",
       "        text-align: right;\n",
       "    }\n",
       "</style>\n",
       "<table border=\"1\" class=\"dataframe\">\n",
       "  <thead>\n",
       "    <tr style=\"text-align: right;\">\n",
       "      <th>response</th>\n",
       "      <th>0</th>\n",
       "      <th>1</th>\n",
       "    </tr>\n",
       "    <tr>\n",
       "      <th>driving_license</th>\n",
       "      <th></th>\n",
       "      <th></th>\n",
       "    </tr>\n",
       "  </thead>\n",
       "  <tbody>\n",
       "    <tr>\n",
       "      <th>0</th>\n",
       "      <td>771</td>\n",
       "      <td>41</td>\n",
       "    </tr>\n",
       "    <tr>\n",
       "      <th>1</th>\n",
       "      <td>333628</td>\n",
       "      <td>46669</td>\n",
       "    </tr>\n",
       "  </tbody>\n",
       "</table>\n",
       "</div>"
      ],
      "text/plain": [
       "response              0      1\n",
       "driving_license               \n",
       "0                   771     41\n",
       "1                333628  46669"
      ]
     },
     "execution_count": 22,
     "metadata": {},
     "output_type": "execute_result"
    }
   ],
   "source": [
    "pd.crosstab(df2['driving_license'], df2['response'])"
   ]
  },
  {
   "cell_type": "markdown",
   "id": "77489fab",
   "metadata": {
    "heading_collapsed": true,
    "hidden": true
   },
   "source": [
    "## 2.2 Different regions have different interest in insurance"
   ]
  },
  {
   "cell_type": "code",
   "execution_count": 23,
   "id": "9692dc5a",
   "metadata": {
    "ExecuteTime": {
     "end_time": "2021-06-07T13:54:03.509137Z",
     "start_time": "2021-06-07T13:54:03.235572Z"
    },
    "hidden": true
   },
   "outputs": [
    {
     "data": {
      "text/html": [
       "<div>\n",
       "<style scoped>\n",
       "    .dataframe tbody tr th:only-of-type {\n",
       "        vertical-align: middle;\n",
       "    }\n",
       "\n",
       "    .dataframe tbody tr th {\n",
       "        vertical-align: top;\n",
       "    }\n",
       "\n",
       "    .dataframe thead th {\n",
       "        text-align: right;\n",
       "    }\n",
       "</style>\n",
       "<table border=\"1\" class=\"dataframe\">\n",
       "  <thead>\n",
       "    <tr style=\"text-align: right;\">\n",
       "      <th></th>\n",
       "      <th>region_code</th>\n",
       "      <th>response</th>\n",
       "    </tr>\n",
       "  </thead>\n",
       "  <tbody>\n",
       "    <tr>\n",
       "      <th>0</th>\n",
       "      <td>28.00</td>\n",
       "      <td>19917</td>\n",
       "    </tr>\n",
       "    <tr>\n",
       "      <th>1</th>\n",
       "      <td>8.00</td>\n",
       "      <td>3257</td>\n",
       "    </tr>\n",
       "    <tr>\n",
       "      <th>2</th>\n",
       "      <td>41.00</td>\n",
       "      <td>2224</td>\n",
       "    </tr>\n",
       "    <tr>\n",
       "      <th>3</th>\n",
       "      <td>46.00</td>\n",
       "      <td>2032</td>\n",
       "    </tr>\n",
       "    <tr>\n",
       "      <th>4</th>\n",
       "      <td>29.00</td>\n",
       "      <td>1365</td>\n",
       "    </tr>\n",
       "  </tbody>\n",
       "</table>\n",
       "</div>"
      ],
      "text/plain": [
       "   region_code  response\n",
       "0        28.00     19917\n",
       "1         8.00      3257\n",
       "2        41.00      2224\n",
       "3        46.00      2032\n",
       "4        29.00      1365"
      ]
     },
     "execution_count": 23,
     "metadata": {},
     "output_type": "execute_result"
    },
    {
     "data": {
      "image/png": "[encoded data removed]",
      "text/plain": [
       "<Figure size 1152x648 with 1 Axes>"
      ]
     },
     "metadata": {},
     "output_type": "display_data"
    }
   ],
   "source": [
    "figure(figsize=(16,9))\n",
    "aux = df2[['region_code', 'response']].groupby('region_code').sum().sort_values(by = 'response', ascending = False).reset_index()\n",
    "sns.barplot(x='region_code', y='response', data=aux, order = aux['region_code'].head(10))\n",
    "aux.head()"
   ]
  },
  {
   "cell_type": "markdown",
   "id": "9e3f3a9d",
   "metadata": {
    "heading_collapsed": true,
    "hidden": true
   },
   "source": [
    "## 2.3 Different policy sales channel have different outcome for the customer"
   ]
  },
  {
   "cell_type": "code",
   "execution_count": 24,
   "id": "0d728cae",
   "metadata": {
    "ExecuteTime": {
     "end_time": "2021-06-07T13:54:03.708179Z",
     "start_time": "2021-06-07T13:54:03.512358Z"
    },
    "hidden": true
   },
   "outputs": [
    {
     "data": {
      "text/html": [
       "<div>\n",
       "<style scoped>\n",
       "    .dataframe tbody tr th:only-of-type {\n",
       "        vertical-align: middle;\n",
       "    }\n",
       "\n",
       "    .dataframe tbody tr th {\n",
       "        vertical-align: top;\n",
       "    }\n",
       "\n",
       "    .dataframe thead th {\n",
       "        text-align: right;\n",
       "    }\n",
       "</style>\n",
       "<table border=\"1\" class=\"dataframe\">\n",
       "  <thead>\n",
       "    <tr style=\"text-align: right;\">\n",
       "      <th></th>\n",
       "      <th>policy_sales_channel</th>\n",
       "      <th>response</th>\n",
       "    </tr>\n",
       "  </thead>\n",
       "  <tbody>\n",
       "    <tr>\n",
       "      <th>0</th>\n",
       "      <td>26.00</td>\n",
       "      <td>15891</td>\n",
       "    </tr>\n",
       "    <tr>\n",
       "      <th>1</th>\n",
       "      <td>124.00</td>\n",
       "      <td>13996</td>\n",
       "    </tr>\n",
       "    <tr>\n",
       "      <th>2</th>\n",
       "      <td>152.00</td>\n",
       "      <td>3858</td>\n",
       "    </tr>\n",
       "    <tr>\n",
       "      <th>3</th>\n",
       "      <td>156.00</td>\n",
       "      <td>2297</td>\n",
       "    </tr>\n",
       "    <tr>\n",
       "      <th>4</th>\n",
       "      <td>157.00</td>\n",
       "      <td>1794</td>\n",
       "    </tr>\n",
       "  </tbody>\n",
       "</table>\n",
       "</div>"
      ],
      "text/plain": [
       "   policy_sales_channel  response\n",
       "0                 26.00     15891\n",
       "1                124.00     13996\n",
       "2                152.00      3858\n",
       "3                156.00      2297\n",
       "4                157.00      1794"
      ]
     },
     "execution_count": 24,
     "metadata": {},
     "output_type": "execute_result"
    },
    {
     "data": {
      "image/png": "[encoded data removed]",
      "text/plain": [
       "<Figure size 1152x648 with 1 Axes>"
      ]
     },
     "metadata": {},
     "output_type": "display_data"
    }
   ],
   "source": [
    "figure(figsize=(16,9))\n",
    "aux = df2[['policy_sales_channel', 'response']].groupby('policy_sales_channel').sum().sort_values(by = 'response', ascending = False).reset_index()\n",
    "sns.barplot(x='policy_sales_channel', y='response', data=aux, order = aux['policy_sales_channel'].head(10))\n",
    "aux.head()"
   ]
  },
  {
   "cell_type": "markdown",
   "id": "a4927d5d",
   "metadata": {
    "heading_collapsed": true,
    "hidden": true
   },
   "source": [
    "## 2.4 Who was previosly insured is less likely to acquire a new insurance service"
   ]
  },
  {
   "cell_type": "code",
   "execution_count": 25,
   "id": "6ad62e34",
   "metadata": {
    "ExecuteTime": {
     "end_time": "2021-06-07T13:54:03.864350Z",
     "start_time": "2021-06-07T13:54:03.710579Z"
    },
    "hidden": true
   },
   "outputs": [
    {
     "data": {
      "text/html": [
       "<div>\n",
       "<style scoped>\n",
       "    .dataframe tbody tr th:only-of-type {\n",
       "        vertical-align: middle;\n",
       "    }\n",
       "\n",
       "    .dataframe tbody tr th {\n",
       "        vertical-align: top;\n",
       "    }\n",
       "\n",
       "    .dataframe thead th {\n",
       "        text-align: right;\n",
       "    }\n",
       "</style>\n",
       "<table border=\"1\" class=\"dataframe\">\n",
       "  <thead>\n",
       "    <tr style=\"text-align: right;\">\n",
       "      <th></th>\n",
       "      <th>response</th>\n",
       "      <th>previously_insured</th>\n",
       "    </tr>\n",
       "  </thead>\n",
       "  <tbody>\n",
       "    <tr>\n",
       "      <th>0</th>\n",
       "      <td>0</td>\n",
       "      <td>174470</td>\n",
       "    </tr>\n",
       "    <tr>\n",
       "      <th>1</th>\n",
       "      <td>1</td>\n",
       "      <td>158</td>\n",
       "    </tr>\n",
       "  </tbody>\n",
       "</table>\n",
       "</div>"
      ],
      "text/plain": [
       "   response  previously_insured\n",
       "0         0              174470\n",
       "1         1                 158"
      ]
     },
     "execution_count": 25,
     "metadata": {},
     "output_type": "execute_result"
    },
    {
     "data": {
      "image/png": "[encoded data removed]",
      "text/plain": [
       "<Figure size 1152x648 with 1 Axes>"
      ]
     },
     "metadata": {},
     "output_type": "display_data"
    }
   ],
   "source": [
    "figure(figsize=(16,9))\n",
    "aux = df2[['previously_insured', 'response']].groupby( 'response' ).sum().reset_index()\n",
    "sns.barplot( x='response', y='previously_insured', data=aux )\n",
    "sns.despine(offset = 10, trim = True)\n",
    "plt.title('Previously insured and interest in insurance');\n",
    "aux"
   ]
  },
  {
   "cell_type": "markdown",
   "id": "27401a32",
   "metadata": {
    "heading_collapsed": true,
    "hidden": true
   },
   "source": [
    "## 2.5 The higher Annual Premium, the lower interest in insurance"
   ]
  },
  {
   "cell_type": "code",
   "execution_count": 26,
   "id": "efffa5c0",
   "metadata": {
    "ExecuteTime": {
     "end_time": "2021-06-07T13:54:03.897289Z",
     "start_time": "2021-06-07T13:54:03.865698Z"
    },
    "hidden": true
   },
   "outputs": [
    {
     "name": "stdout",
     "output_type": "stream",
     "text": [
      "Mean Annual premium of who is interested     : 31604.092742453435\n",
      "Mean Annual premium of who is not interested : 30419.16027559891\n"
     ]
    }
   ],
   "source": [
    "aux1 = df2[df2['response'] == 1]\n",
    "aux2 = df2[df2['response'] == 0]\n",
    "\n",
    "x = aux1['annual_premium'].mean()\n",
    "y = aux2['annual_premium'].mean()\n",
    "\n",
    "print('Mean Annual premium of who is interested     :', x)\n",
    "print('Mean Annual premium of who is not interested :', y)"
   ]
  },
  {
   "cell_type": "code",
   "execution_count": 27,
   "id": "d07c9dbd",
   "metadata": {
    "ExecuteTime": {
     "end_time": "2021-06-07T13:54:09.332475Z",
     "start_time": "2021-06-07T13:54:03.899128Z"
    },
    "hidden": true
   },
   "outputs": [
    {
     "data": {
      "text/plain": [
       "<AxesSubplot:xlabel='annual_premium', ylabel='Count'>"
      ]
     },
     "execution_count": 27,
     "metadata": {},
     "output_type": "execute_result"
    },
    {
     "data": {
      "image/png": "[encoded data removed]",
      "text/plain": [
       "<Figure size 1152x648 with 1 Axes>"
      ]
     },
     "metadata": {},
     "output_type": "display_data"
    }
   ],
   "source": [
    "figure(figsize=(16,9))\n",
    "aux3 = df2[df2['annual_premium'] > 3000]\n",
    "\n",
    "sns.histplot(aux3, x=\"annual_premium\", hue=\"response\", kde = True)"
   ]
  },
  {
   "cell_type": "markdown",
   "id": "eb7539d4",
   "metadata": {
    "heading_collapsed": true,
    "hidden": true
   },
   "source": [
    "## 2.6 The higher vintage, the higher interest in insurance"
   ]
  },
  {
   "cell_type": "code",
   "execution_count": 28,
   "id": "4f279c26",
   "metadata": {
    "ExecuteTime": {
     "end_time": "2021-06-07T13:54:09.370840Z",
     "start_time": "2021-06-07T13:54:09.333863Z"
    },
    "hidden": true
   },
   "outputs": [
    {
     "name": "stdout",
     "output_type": "stream",
     "text": [
      "Mean Vintage of who is interested     : 154.11224577178334\n",
      "Mean Vintage of who is not interested : 154.38024336197176\n"
     ]
    }
   ],
   "source": [
    "aux1 = df2[df2['response'] == 1]\n",
    "aux2 = df2[df2['response'] == 0]\n",
    "\n",
    "x = aux1['vintage'].mean()\n",
    "y = aux2['vintage'].mean()\n",
    "\n",
    "print('Mean Vintage of who is interested     :', x)\n",
    "print('Mean Vintage of who is not interested :', y)"
   ]
  },
  {
   "cell_type": "code",
   "execution_count": 29,
   "id": "5055d53d",
   "metadata": {
    "ExecuteTime": {
     "end_time": "2021-06-07T13:54:09.541334Z",
     "start_time": "2021-06-07T13:54:09.372995Z"
    },
    "hidden": true
   },
   "outputs": [
    {
     "data": {
      "text/plain": [
       "<AxesSubplot:xlabel='response', ylabel='vintage'>"
      ]
     },
     "execution_count": 29,
     "metadata": {},
     "output_type": "execute_result"
    },
    {
     "data": {
      "image/png": "[encoded data removed]",
      "text/plain": [
       "<Figure size 1080x648 with 1 Axes>"
      ]
     },
     "metadata": {},
     "output_type": "display_data"
    }
   ],
   "source": [
    "figure(figsize=(15,9))\n",
    "sns.boxplot(x='response', y='vintage', data=df2)"
   ]
  },
  {
   "cell_type": "markdown",
   "id": "25707b05",
   "metadata": {
    "heading_collapsed": true,
    "hidden": true
   },
   "source": [
    "## 2.7 The higher age, the higher interest in insurance"
   ]
  },
  {
   "cell_type": "code",
   "execution_count": 30,
   "id": "bec60f74",
   "metadata": {
    "ExecuteTime": {
     "end_time": "2021-06-07T13:54:09.578728Z",
     "start_time": "2021-06-07T13:54:09.542998Z"
    },
    "hidden": true
   },
   "outputs": [
    {
     "name": "stdout",
     "output_type": "stream",
     "text": [
      "Mean age of interested: 43.435559837293944\n",
      "Mean age of not interested: 38.17822720761725\n"
     ]
    }
   ],
   "source": [
    "aux1 = df2[df2['response'] == 1]\n",
    "aux2 = df2[df2['response'] == 0]\n",
    "\n",
    "x = aux1['age'].mean()\n",
    "y = aux2['age'].mean()\n",
    "\n",
    "print('Mean age of interested:', x)\n",
    "print('Mean age of not interested:', y)"
   ]
  },
  {
   "cell_type": "code",
   "execution_count": 31,
   "id": "dbd9c412",
   "metadata": {
    "ExecuteTime": {
     "end_time": "2021-06-07T13:54:09.802547Z",
     "start_time": "2021-06-07T13:54:09.580489Z"
    },
    "hidden": true
   },
   "outputs": [
    {
     "data": {
      "text/plain": [
       "<AxesSubplot:xlabel='response', ylabel='age'>"
      ]
     },
     "execution_count": 31,
     "metadata": {},
     "output_type": "execute_result"
    },
    {
     "data": {
      "image/png": "[encoded data removed]",
      "text/plain": [
       "<Figure size 1080x648 with 2 Axes>"
      ]
     },
     "metadata": {},
     "output_type": "display_data"
    }
   ],
   "source": [
    "figure(figsize=(15,9))\n",
    "plt.subplot(1,2,1)\n",
    "sns.boxplot(x='response', y='age', data=aux1)\n",
    "plt.subplot(1,2,2)\n",
    "sns.boxplot(x='response', y='age', data=aux2)"
   ]
  },
  {
   "cell_type": "markdown",
   "id": "5193c424",
   "metadata": {
    "heading_collapsed": true
   },
   "source": [
    "# 3.0 BIVARIATE ANALYSIS"
   ]
  },
  {
   "cell_type": "code",
   "execution_count": 32,
   "id": "5349a5db",
   "metadata": {
    "ExecuteTime": {
     "end_time": "2021-06-07T13:54:10.361933Z",
     "start_time": "2021-06-07T13:54:09.804036Z"
    },
    "hidden": true
   },
   "outputs": [
    {
     "data": {
      "text/plain": [
       "<AxesSubplot:>"
      ]
     },
     "execution_count": 32,
     "metadata": {},
     "output_type": "execute_result"
    },
    {
     "data": {
      "image/png": "[encoded data removed]",
      "text/plain": [
       "<Figure size 1152x648 with 2 Axes>"
      ]
     },
     "metadata": {},
     "output_type": "display_data"
    }
   ],
   "source": [
    "figure(figsize=(16,9))\n",
    "correlation = num_attributes.corr(method='pearson')\n",
    "sns.heatmap(correlation, annot=True, cmap='Blues')"
   ]
  },
  {
   "cell_type": "markdown",
   "id": "355744ea",
   "metadata": {
    "heading_collapsed": true
   },
   "source": [
    "# 5.0. DATA PREPARATION"
   ]
  },
  {
   "cell_type": "code",
   "execution_count": 33,
   "id": "00b250ba",
   "metadata": {
    "ExecuteTime": {
     "end_time": "2021-06-07T13:54:10.385423Z",
     "start_time": "2021-06-07T13:54:10.363744Z"
    },
    "hidden": true
   },
   "outputs": [
    {
     "data": {
      "text/html": [
       "<div>\n",
       "<style scoped>\n",
       "    .dataframe tbody tr th:only-of-type {\n",
       "        vertical-align: middle;\n",
       "    }\n",
       "\n",
       "    .dataframe tbody tr th {\n",
       "        vertical-align: top;\n",
       "    }\n",
       "\n",
       "    .dataframe thead th {\n",
       "        text-align: right;\n",
       "    }\n",
       "</style>\n",
       "<table border=\"1\" class=\"dataframe\">\n",
       "  <thead>\n",
       "    <tr style=\"text-align: right;\">\n",
       "      <th></th>\n",
       "      <th>id</th>\n",
       "      <th>gender</th>\n",
       "      <th>age</th>\n",
       "      <th>driving_license</th>\n",
       "      <th>region_code</th>\n",
       "      <th>previously_insured</th>\n",
       "      <th>vehicle_age</th>\n",
       "      <th>vehicle_damage</th>\n",
       "      <th>annual_premium</th>\n",
       "      <th>policy_sales_channel</th>\n",
       "      <th>vintage</th>\n",
       "      <th>response</th>\n",
       "    </tr>\n",
       "  </thead>\n",
       "  <tbody>\n",
       "    <tr>\n",
       "      <th>0</th>\n",
       "      <td>1</td>\n",
       "      <td>Male</td>\n",
       "      <td>44</td>\n",
       "      <td>1</td>\n",
       "      <td>28.00</td>\n",
       "      <td>0</td>\n",
       "      <td>&gt; 2 Years</td>\n",
       "      <td>Yes</td>\n",
       "      <td>40454.00</td>\n",
       "      <td>26.00</td>\n",
       "      <td>217</td>\n",
       "      <td>1</td>\n",
       "    </tr>\n",
       "    <tr>\n",
       "      <th>1</th>\n",
       "      <td>2</td>\n",
       "      <td>Male</td>\n",
       "      <td>76</td>\n",
       "      <td>1</td>\n",
       "      <td>3.00</td>\n",
       "      <td>0</td>\n",
       "      <td>1-2 Year</td>\n",
       "      <td>No</td>\n",
       "      <td>33536.00</td>\n",
       "      <td>26.00</td>\n",
       "      <td>183</td>\n",
       "      <td>0</td>\n",
       "    </tr>\n",
       "    <tr>\n",
       "      <th>2</th>\n",
       "      <td>3</td>\n",
       "      <td>Male</td>\n",
       "      <td>47</td>\n",
       "      <td>1</td>\n",
       "      <td>28.00</td>\n",
       "      <td>0</td>\n",
       "      <td>&gt; 2 Years</td>\n",
       "      <td>Yes</td>\n",
       "      <td>38294.00</td>\n",
       "      <td>26.00</td>\n",
       "      <td>27</td>\n",
       "      <td>1</td>\n",
       "    </tr>\n",
       "    <tr>\n",
       "      <th>3</th>\n",
       "      <td>4</td>\n",
       "      <td>Male</td>\n",
       "      <td>21</td>\n",
       "      <td>1</td>\n",
       "      <td>11.00</td>\n",
       "      <td>1</td>\n",
       "      <td>&lt; 1 Year</td>\n",
       "      <td>No</td>\n",
       "      <td>28619.00</td>\n",
       "      <td>152.00</td>\n",
       "      <td>203</td>\n",
       "      <td>0</td>\n",
       "    </tr>\n",
       "    <tr>\n",
       "      <th>4</th>\n",
       "      <td>5</td>\n",
       "      <td>Female</td>\n",
       "      <td>29</td>\n",
       "      <td>1</td>\n",
       "      <td>41.00</td>\n",
       "      <td>1</td>\n",
       "      <td>&lt; 1 Year</td>\n",
       "      <td>No</td>\n",
       "      <td>27496.00</td>\n",
       "      <td>152.00</td>\n",
       "      <td>39</td>\n",
       "      <td>0</td>\n",
       "    </tr>\n",
       "  </tbody>\n",
       "</table>\n",
       "</div>"
      ],
      "text/plain": [
       "   id  gender  age  driving_license  region_code  previously_insured  \\\n",
       "0   1    Male   44                1        28.00                   0   \n",
       "1   2    Male   76                1         3.00                   0   \n",
       "2   3    Male   47                1        28.00                   0   \n",
       "3   4    Male   21                1        11.00                   1   \n",
       "4   5  Female   29                1        41.00                   1   \n",
       "\n",
       "  vehicle_age vehicle_damage  annual_premium  policy_sales_channel  vintage  \\\n",
       "0   > 2 Years            Yes        40454.00                 26.00      217   \n",
       "1    1-2 Year             No        33536.00                 26.00      183   \n",
       "2   > 2 Years            Yes        38294.00                 26.00       27   \n",
       "3    < 1 Year             No        28619.00                152.00      203   \n",
       "4    < 1 Year             No        27496.00                152.00       39   \n",
       "\n",
       "   response  \n",
       "0         1  \n",
       "1         0  \n",
       "2         1  \n",
       "3         0  \n",
       "4         0  "
      ]
     },
     "execution_count": 33,
     "metadata": {},
     "output_type": "execute_result"
    }
   ],
   "source": [
    "df3=df2.copy()\n",
    "df3.head()"
   ]
  },
  {
   "cell_type": "markdown",
   "id": "602b78f3",
   "metadata": {
    "heading_collapsed": true,
    "hidden": true
   },
   "source": [
    "## 5.1 Encoding"
   ]
  },
  {
   "cell_type": "code",
   "execution_count": 34,
   "id": "63ccbec1",
   "metadata": {
    "ExecuteTime": {
     "end_time": "2021-06-07T13:54:10.521170Z",
     "start_time": "2021-06-07T13:54:10.387018Z"
    },
    "hidden": true
   },
   "outputs": [],
   "source": [
    "#Gender Encoding\n",
    "\n",
    "df3['gender'] = df3['gender'].map({'Male': 1, 'Female': 0})\n",
    "\n",
    "#Vehicle Damage Encoding\n",
    "\n",
    "df3['vehicle_damage'] = df3['vehicle_damage'].map({'Yes': 1, 'No': 0})\n",
    "df3.head()\n",
    "\n",
    "#Vehicle Age Encoding\n",
    "df3 = pd.get_dummies(df3, prefix='vehicle_age', columns=['vehicle_age'])"
   ]
  },
  {
   "cell_type": "markdown",
   "id": "0817820c",
   "metadata": {
    "heading_collapsed": true,
    "hidden": true
   },
   "source": [
    "## 5.2 K-Fold Encoding"
   ]
  },
  {
   "cell_type": "code",
   "execution_count": 35,
   "id": "747287fd",
   "metadata": {
    "ExecuteTime": {
     "end_time": "2021-06-07T13:54:10.774154Z",
     "start_time": "2021-06-07T13:54:10.523094Z"
    },
    "hidden": true
   },
   "outputs": [
    {
     "name": "stdout",
     "output_type": "stream",
     "text": [
      "KFold(n_splits=5, random_state=2021, shuffle=True)\n",
      "Correlation between the new feature, region_code_Kfold_Target_Enc and, response is 0.13725713378653778.\n"
     ]
    }
   ],
   "source": [
    "#Target encoding the region code with K-Folds\n",
    "\n",
    "target_encoder = KFoldTargetEncoder('region_code','response', n_fold=5)\n",
    "df3 = target_encoder.fit_transform(df3)\n",
    "\n",
    "#Previous correlation was 0.011 vs 0.13 now, higher, but still lowish."
   ]
  },
  {
   "cell_type": "code",
   "execution_count": 36,
   "id": "94cd2510",
   "metadata": {
    "ExecuteTime": {
     "end_time": "2021-06-07T13:54:11.026293Z",
     "start_time": "2021-06-07T13:54:10.776382Z"
    },
    "hidden": true
   },
   "outputs": [
    {
     "name": "stdout",
     "output_type": "stream",
     "text": [
      "KFold(n_splits=5, random_state=2021, shuffle=True)\n",
      "Correlation between the new feature, policy_sales_channel_Kfold_Target_Enc and, response is 0.26192635929712205.\n"
     ]
    }
   ],
   "source": [
    "#Target encoding the region code with K-Folds\n",
    "\n",
    "target_encoder = KFoldTargetEncoder('policy_sales_channel','response', n_fold=5)\n",
    "df3 = target_encoder.fit_transform(df3)\n",
    "\n",
    "#Previous correlation was -0.014 vs 0.26 now, below 30, so we will take it.\n",
    "#Generalizing, anything over 50 is high, between 49-30 is moderate, and below 30 is low."
   ]
  },
  {
   "cell_type": "markdown",
   "id": "07a24fc7",
   "metadata": {
    "hidden": true
   },
   "source": [
    "## 5.3. Splitting the dataset into Training and Test"
   ]
  },
  {
   "cell_type": "code",
   "execution_count": 37,
   "id": "d60eaf87",
   "metadata": {
    "ExecuteTime": {
     "end_time": "2021-06-07T13:54:11.041955Z",
     "start_time": "2021-06-07T13:54:11.028290Z"
    },
    "hidden": true
   },
   "outputs": [],
   "source": [
    "#Lets drop the old columns which we just encoded.\n",
    "\n",
    "df3.drop(columns=['policy_sales_channel', 'region_code', 'id'], inplace = True)"
   ]
  },
  {
   "cell_type": "code",
   "execution_count": 38,
   "id": "4141756f",
   "metadata": {
    "ExecuteTime": {
     "end_time": "2021-06-07T13:54:11.055481Z",
     "start_time": "2021-06-07T13:54:11.043547Z"
    },
    "hidden": true
   },
   "outputs": [],
   "source": [
    "#Leaving response as the last feature will help when splitting the dataset\n",
    "\n",
    "columns_order = ['gender', \n",
    "                 'age', \n",
    "                 'driving_license', \n",
    "                 'previously_insured',\n",
    "                 'vehicle_damage', \n",
    "                 'annual_premium', \n",
    "                 'vintage',\n",
    "                 'vehicle_age_1-2 Year',\n",
    "                 'vehicle_age_< 1 Year',\n",
    "                 'vehicle_age_> 2 Years',\n",
    "                 'region_code_Kfold_Target_Enc',\n",
    "                 'policy_sales_channel_Kfold_Target_Enc', \n",
    "                 'response']\n",
    "\n",
    "df3 = df3.reindex(columns = columns_order)"
   ]
  },
  {
   "cell_type": "code",
   "execution_count": 39,
   "id": "171c2dc9",
   "metadata": {
    "ExecuteTime": {
     "end_time": "2021-06-07T13:54:11.088827Z",
     "start_time": "2021-06-07T13:54:11.061279Z"
    },
    "hidden": true
   },
   "outputs": [],
   "source": [
    "#Splitting data into train and test 80/20\n",
    "\n",
    "msk = np.random.rand(len(df)) < 0.80\n",
    "train = df3[msk]\n",
    "test = df3[~msk]"
   ]
  },
  {
   "cell_type": "code",
   "execution_count": 40,
   "id": "a38f4d65",
   "metadata": {
    "ExecuteTime": {
     "end_time": "2021-06-07T13:54:11.109042Z",
     "start_time": "2021-06-07T13:54:11.092076Z"
    },
    "hidden": true
   },
   "outputs": [],
   "source": [
    "#This is going to select the first rows to the training sets, and leave the last one, which is the response,\n",
    "#to the test set\n",
    "\n",
    "x_train = train.iloc[:, :-1]\n",
    "y_train = train.iloc[:, -1:]\n",
    "\n",
    "x_test = test.iloc[:, :-1]\n",
    "y_test = test.iloc[:, -1:]"
   ]
  },
  {
   "cell_type": "markdown",
   "id": "a6085603",
   "metadata": {
    "heading_collapsed": true,
    "hidden": true
   },
   "source": [
    "## 5.4. Rescalling "
   ]
  },
  {
   "cell_type": "code",
   "execution_count": 41,
   "id": "42fc72cf",
   "metadata": {
    "ExecuteTime": {
     "end_time": "2021-06-07T13:54:11.395403Z",
     "start_time": "2021-06-07T13:54:11.110954Z"
    },
    "hidden": true
   },
   "outputs": [
    {
     "data": {
      "text/plain": [
       "<AxesSubplot:ylabel='vintage'>"
      ]
     },
     "execution_count": 41,
     "metadata": {},
     "output_type": "execute_result"
    },
    {
     "data": {
      "image/png": "[encoded data removed]",
      "text/plain": [
       "<Figure size 1152x648 with 3 Axes>"
      ]
     },
     "metadata": {},
     "output_type": "display_data"
    }
   ],
   "source": [
    "figure(figsize=(16,9))\n",
    "plt.subplot(1,3,1)\n",
    "sns.boxplot(y='age', data=df2) #StandardScalar ou MinMax\n",
    "\n",
    "plt.subplot(1,3,2)\n",
    "sns.boxplot(y='annual_premium', data=df2) #RobustScalar\n",
    "\n",
    "plt.subplot(1,3,3)\n",
    "sns.boxplot(y='vintage', data=df2) #StandardScalar ou MinMax"
   ]
  },
  {
   "cell_type": "code",
   "execution_count": 42,
   "id": "7d95416c",
   "metadata": {
    "ExecuteTime": {
     "end_time": "2021-06-07T13:54:11.607438Z",
     "start_time": "2021-06-07T13:54:11.397228Z"
    },
    "hidden": true
   },
   "outputs": [],
   "source": [
    "rs = RobustScaler()\n",
    "mms = MinMaxScaler()\n",
    "\n",
    "#age\n",
    "x_train['age'] = mms.fit_transform(x_train.loc[:, 'age':].values)\n",
    "x_test['age'] = mms.transform(x_test.loc[:, 'age':].values)\n",
    "\n",
    "#vintage\n",
    "x_train['vintage'] = mms.fit_transform(x_train.loc[:, 'vintage':].values)\n",
    "x_test['vintage'] = mms.transform(x_test.loc[:, 'vintage':].values)\n",
    "\n",
    "#anual premium\n",
    "x_train['annual_premium'] = rs.fit_transform(x_train.loc[:, 'annual_premium':].values)\n",
    "x_test['annual_premium'] = rs.transform(x_test.loc[:, 'annual_premium':].values)"
   ]
  },
  {
   "cell_type": "markdown",
   "id": "c44c3148",
   "metadata": {
    "heading_collapsed": true,
    "hidden": true
   },
   "source": [
    "## 5.4. Resampling the target variable with SmoteTomek"
   ]
  },
  {
   "cell_type": "code",
   "execution_count": 43,
   "id": "f8cdeac9",
   "metadata": {
    "ExecuteTime": {
     "end_time": "2021-06-07T13:54:11.618897Z",
     "start_time": "2021-06-07T13:54:11.609318Z"
    },
    "hidden": true
   },
   "outputs": [
    {
     "name": "stdout",
     "output_type": "stream",
     "text": [
      "Before ressampling\n"
     ]
    },
    {
     "data": {
      "text/plain": [
       "response\n",
       "0           267552\n",
       "1            37513\n",
       "dtype: int64"
      ]
     },
     "execution_count": 43,
     "metadata": {},
     "output_type": "execute_result"
    }
   ],
   "source": [
    "# We are going to deal with the unbalance of the data set by using\n",
    "# the SMOTE algorithm with TomekLinks, which oversample the data while it\n",
    "# creates synthetic samples, and then undersamples it based on both\n",
    "#observations nearest neighbors that belong to different classes.\n",
    "\n",
    "print('Before ressampling')\n",
    "y_train.value_counts()"
   ]
  },
  {
   "cell_type": "code",
   "execution_count": 44,
   "id": "da60eeca",
   "metadata": {
    "ExecuteTime": {
     "end_time": "2021-06-07T13:59:37.610255Z",
     "start_time": "2021-06-07T13:54:11.620629Z"
    },
    "hidden": true
   },
   "outputs": [],
   "source": [
    "x_train_res, y_train_res = SMOTETomek(random_state=42).fit_resample(x_train, y_train)"
   ]
  },
  {
   "cell_type": "code",
   "execution_count": 45,
   "id": "08b5d662",
   "metadata": {
    "ExecuteTime": {
     "end_time": "2021-06-07T13:59:37.628317Z",
     "start_time": "2021-06-07T13:59:37.612374Z"
    },
    "hidden": true
   },
   "outputs": [
    {
     "name": "stdout",
     "output_type": "stream",
     "text": [
      "After ressampling\n"
     ]
    },
    {
     "data": {
      "text/plain": [
       "response\n",
       "0           262711\n",
       "1           262711\n",
       "dtype: int64"
      ]
     },
     "execution_count": 45,
     "metadata": {},
     "output_type": "execute_result"
    }
   ],
   "source": [
    "print('After ressampling')\n",
    "y_train_res.value_counts()"
   ]
  },
  {
   "cell_type": "markdown",
   "id": "a67b9b4b",
   "metadata": {
    "heading_collapsed": true
   },
   "source": [
    "# 6.0. FEATURE SELECTION"
   ]
  },
  {
   "cell_type": "markdown",
   "id": "52c6d4a0",
   "metadata": {
    "heading_collapsed": true,
    "hidden": true
   },
   "source": [
    "## 6.1.0. Features Analysis"
   ]
  },
  {
   "cell_type": "code",
   "execution_count": 51,
   "id": "2852295b",
   "metadata": {
    "ExecuteTime": {
     "end_time": "2021-06-07T13:59:53.725788Z",
     "start_time": "2021-06-07T13:59:53.323301Z"
    },
    "hidden": true
   },
   "outputs": [
    {
     "data": {
      "image/png": "[encoded data removed]",
      "text/plain": [
       "<Figure size 576x396 with 1 Axes>"
      ]
     },
     "metadata": {},
     "output_type": "display_data"
    }
   ],
   "source": [
    "visualizer = Rank1D(algorithm='shapiro')\n",
    "visualizer.fit(x_train_res, y_train_res)\n",
    "visualizer.transform(x_train_res)\n",
    "visualizer.show();"
   ]
  },
  {
   "cell_type": "markdown",
   "id": "fcb88653",
   "metadata": {
    "heading_collapsed": true,
    "hidden": true
   },
   "source": [
    "## 6.1.1. Recursive Feature Elimination with Cross Validation"
   ]
  },
  {
   "cell_type": "code",
   "execution_count": 47,
   "id": "1102aaab",
   "metadata": {
    "ExecuteTime": {
     "end_time": "2021-06-07T13:59:38.067180Z",
     "start_time": "2021-06-07T13:59:38.056293Z"
    },
    "hidden": true
   },
   "outputs": [],
   "source": [
    "#preparating for selection\n",
    "x_train_res_s = x_train_res.values\n",
    "y_train_res_s = y_train_res.values.ravel()"
   ]
  },
  {
   "cell_type": "code",
   "execution_count": 48,
   "id": "6a457bab",
   "metadata": {
    "ExecuteTime": {
     "end_time": "2021-06-07T13:59:38.071095Z",
     "start_time": "2021-06-07T13:59:38.068984Z"
    },
    "hidden": true
   },
   "outputs": [],
   "source": [
    "# Create the RFE object and compute a cross-validated score.\n",
    "# et = ExtraTreesClassifier( n_estimators = 100, n_jobs=-1, random_state=42 )\n",
    "\n",
    "# min_features_to_select = 1  # Minimum number of features to consider\n",
    "\n",
    "# rfeet = RFECV(estimator = et, step = 1, cv = StratifiedKFold(2),\n",
    "#               scoring = 'precision',\n",
    "#               min_features_to_select= min_features_to_select)\n",
    "\n",
    "# rfeet.fit(x_train_res_s, y_train_res_s)\n",
    "\n",
    "# print(\"Optimal number of features : %d\" % rfeet.n_features_)\n",
    "\n",
    "# # Plot number of features VS. cross-validation scores\n",
    "# plt.figure()\n",
    "# plt.xlabel(\"Number of features selected\")\n",
    "# plt.ylabel(\"Cross validation score (nb of correct classifications)\")\n",
    "# plt.plot(range(min_features_to_select,\n",
    "#                len(rfeet.grid_scores_) + min_features_to_select),\n",
    "#          rfeet.grid_scores_)\n",
    "# plt.show()"
   ]
  },
  {
   "cell_type": "markdown",
   "id": "2dc2a61d",
   "metadata": {
    "heading_collapsed": true,
    "hidden": true
   },
   "source": [
    "## 6.1.2 Boruta Feature Selector "
   ]
  },
  {
   "cell_type": "code",
   "execution_count": 55,
   "id": "9d93c8ee",
   "metadata": {
    "ExecuteTime": {
     "end_time": "2021-06-07T14:08:42.228428Z",
     "start_time": "2021-06-07T14:05:23.900875Z"
    },
    "hidden": true
   },
   "outputs": [
    {
     "name": "stdout",
     "output_type": "stream",
     "text": [
      "Iteration: \t1 / 100\n",
      "Confirmed: \t0\n",
      "Tentative: \t12\n",
      "Rejected: \t0\n",
      "Iteration: \t2 / 100\n",
      "Confirmed: \t0\n",
      "Tentative: \t12\n",
      "Rejected: \t0\n",
      "Iteration: \t3 / 100\n",
      "Confirmed: \t0\n",
      "Tentative: \t12\n",
      "Rejected: \t0\n",
      "Iteration: \t4 / 100\n",
      "Confirmed: \t0\n",
      "Tentative: \t12\n",
      "Rejected: \t0\n",
      "Iteration: \t5 / 100\n",
      "Confirmed: \t0\n",
      "Tentative: \t12\n",
      "Rejected: \t0\n",
      "Iteration: \t6 / 100\n",
      "Confirmed: \t0\n",
      "Tentative: \t12\n",
      "Rejected: \t0\n",
      "Iteration: \t7 / 100\n",
      "Confirmed: \t0\n",
      "Tentative: \t12\n",
      "Rejected: \t0\n",
      "Iteration: \t8 / 100\n",
      "Confirmed: \t6\n",
      "Tentative: \t0\n",
      "Rejected: \t6\n",
      "\n",
      "\n",
      "BorutaPy finished running.\n",
      "\n",
      "Iteration: \t9 / 100\n",
      "Confirmed: \t6\n",
      "Tentative: \t0\n",
      "Rejected: \t6\n"
     ]
    }
   ],
   "source": [
    "#define Classifier\n",
    "rf = RandomForestClassifier( n_jobs = -1 )\n",
    "\n",
    "boruta = BorutaPy( rf, n_estimators = 'auto', verbose = 2, random_state = 42 ).fit( x_train_res_s, y_train_res_s )"
   ]
  },
  {
   "cell_type": "code",
   "execution_count": 56,
   "id": "61b842ac",
   "metadata": {
    "ExecuteTime": {
     "end_time": "2021-06-07T14:08:42.254598Z",
     "start_time": "2021-06-07T14:08:42.233324Z"
    },
    "hidden": true
   },
   "outputs": [],
   "source": [
    "cols_selected = boruta.support_.tolist()\n",
    "\n",
    "# best features\n",
    "cols_selected_boruta = x_train.iloc[:, cols_selected].columns.to_list()\n",
    "\n",
    "# not selected boruta\n",
    "cols_not_selected_boruta = list( np.setdiff1d( x_train.columns, cols_selected_boruta ) )"
   ]
  },
  {
   "cell_type": "code",
   "execution_count": 57,
   "id": "a90a45e9",
   "metadata": {
    "ExecuteTime": {
     "end_time": "2021-06-07T14:08:42.268124Z",
     "start_time": "2021-06-07T14:08:42.259806Z"
    },
    "hidden": true
   },
   "outputs": [
    {
     "data": {
      "text/plain": [
       "['age',\n",
       " 'previously_insured',\n",
       " 'vehicle_damage',\n",
       " 'vintage',\n",
       " 'region_code_Kfold_Target_Enc',\n",
       " 'policy_sales_channel_Kfold_Target_Enc']"
      ]
     },
     "execution_count": 57,
     "metadata": {},
     "output_type": "execute_result"
    }
   ],
   "source": [
    "cols_selected_boruta"
   ]
  },
  {
   "cell_type": "code",
   "execution_count": 58,
   "id": "9ef1c629",
   "metadata": {
    "ExecuteTime": {
     "end_time": "2021-06-07T14:08:42.278656Z",
     "start_time": "2021-06-07T14:08:42.271494Z"
    },
    "hidden": true
   },
   "outputs": [
    {
     "data": {
      "text/plain": [
       "['annual_premium',\n",
       " 'driving_license',\n",
       " 'gender',\n",
       " 'vehicle_age_1-2 Year',\n",
       " 'vehicle_age_< 1 Year',\n",
       " 'vehicle_age_> 2 Years']"
      ]
     },
     "execution_count": 58,
     "metadata": {},
     "output_type": "execute_result"
    }
   ],
   "source": [
    "cols_not_selected_boruta"
   ]
  },
  {
   "cell_type": "markdown",
   "id": "1967dc99",
   "metadata": {
    "heading_collapsed": true
   },
   "source": [
    "# 7.0 MACHINE LEARNING MODELING"
   ]
  },
  {
   "cell_type": "code",
   "execution_count": 59,
   "id": "5d9e75e0",
   "metadata": {
    "ExecuteTime": {
     "end_time": "2021-06-07T14:09:59.889220Z",
     "start_time": "2021-06-07T14:09:59.886960Z"
    },
    "hidden": true
   },
   "outputs": [],
   "source": [
    "# First, lets select the features after the analysis, RFE and Boruta.\n",
    "# Then, lets use it to select on both the x training and x test sets"
   ]
  },
  {
   "cell_type": "code",
   "execution_count": 60,
   "id": "9f93c5af",
   "metadata": {
    "ExecuteTime": {
     "end_time": "2021-06-07T14:10:00.868702Z",
     "start_time": "2021-06-07T14:10:00.824204Z"
    },
    "hidden": true
   },
   "outputs": [],
   "source": [
    "cols_selected = [   'age',\n",
    "                    'previously_insured',\n",
    "                    'vehicle_damage',\n",
    "                    'vintage',\n",
    "                    'annual_premium',\n",
    "                    'region_code_Kfold_Target_Enc',\n",
    "                    'policy_sales_channel_Kfold_Target_Enc'\n",
    "                ]\n",
    "\n",
    "x_train_res = x_train_res[cols_selected].copy()\n",
    "x_test = x_test[cols_selected].copy()"
   ]
  },
  {
   "cell_type": "code",
   "execution_count": 61,
   "id": "252a93e7",
   "metadata": {
    "ExecuteTime": {
     "end_time": "2021-06-07T14:10:02.481973Z",
     "start_time": "2021-06-07T14:10:02.479910Z"
    },
    "hidden": true
   },
   "outputs": [],
   "source": [
    "# Since we have a very unbalanced distribuition of classes, with a lot of\n",
    "# 0's and not a lot of 1's, the precision score wouldnt be ideal, because\n",
    "# it measures the correct predictions in relationship ot the total predic-\n",
    "# tions made. Recall measures the the correct predctions over the correct\n",
    "# plus incorrect ones (TP/TP+FN). Meaning: FN = the model is saying the\n",
    "# person wants insurance, but doesnt."
   ]
  },
  {
   "cell_type": "markdown",
   "id": "d033015f",
   "metadata": {
    "heading_collapsed": true,
    "hidden": true
   },
   "source": [
    "## 7.1 Logistic Regression"
   ]
  },
  {
   "cell_type": "code",
   "execution_count": 62,
   "id": "87e9ba3f",
   "metadata": {
    "ExecuteTime": {
     "end_time": "2021-06-07T14:10:05.720426Z",
     "start_time": "2021-06-07T14:10:04.404318Z"
    },
    "hidden": true
   },
   "outputs": [
    {
     "name": "stdout",
     "output_type": "stream",
     "text": [
      "Balanced Accuracy: 0.7898241004521824\n",
      "Precision: 0.26843546407326974\n"
     ]
    }
   ],
   "source": [
    "# model definition\n",
    "lr_model = lm.LogisticRegression( random_state = 42 ) \n",
    "\n",
    "# model training\n",
    "lr_model.fit( x_train_res, y_train_res.values.ravel() )\n",
    "\n",
    "# model prediction  \n",
    "yhat_lr = lr_model.predict( x_test )\n",
    "\n",
    "#metrics \n",
    "print('Balanced Accuracy: '   + str(balanced_accuracy_score(y_test,yhat_lr)))\n",
    "print('Precision: '   + str(precision_score(y_test,yhat_lr)))"
   ]
  },
  {
   "cell_type": "markdown",
   "id": "177b555a",
   "metadata": {
    "heading_collapsed": true,
    "hidden": true
   },
   "source": [
    "## 7.2. K-Nearest Neighbors"
   ]
  },
  {
   "cell_type": "code",
   "execution_count": 63,
   "id": "6821ed63",
   "metadata": {
    "ExecuteTime": {
     "end_time": "2021-06-07T14:16:00.386060Z",
     "start_time": "2021-06-07T14:10:16.954332Z"
    },
    "hidden": true
   },
   "outputs": [],
   "source": [
    "#find best k\n",
    "Ks = 15\n",
    "\n",
    "mean_rcc = np.zeros((Ks-1))\n",
    "\n",
    "for n in range(9,Ks):\n",
    "    \n",
    "    #Train Model and Predict  \n",
    "    knn_model = nh.KNeighborsClassifier(n_neighbors = n).fit(x_train_res,y_train_res.values.ravel())\n",
    "    yhat = knn_model.predict(x_test)\n",
    "    mean_rcc[n-1] = balanced_accuracy_score(y_test, yhat)"
   ]
  },
  {
   "cell_type": "code",
   "execution_count": 64,
   "id": "509c09c9",
   "metadata": {
    "ExecuteTime": {
     "end_time": "2021-06-07T14:16:32.580824Z",
     "start_time": "2021-06-07T14:16:32.432123Z"
    },
    "hidden": true
   },
   "outputs": [
    {
     "data": {
      "image/png": "[encoded data removed]",
      "text/plain": [
       "<Figure size 576x396 with 1 Axes>"
      ]
     },
     "metadata": {},
     "output_type": "display_data"
    }
   ],
   "source": [
    "plt.plot(range(1,Ks),mean_rcc,'g')\n",
    "plt.legend(('Precision', ), loc = 'center right' )\n",
    "plt.xlabel('Number of Neighbors')\n",
    "plt.tight_layout()\n",
    "plt.show()"
   ]
  },
  {
   "cell_type": "code",
   "execution_count": 65,
   "id": "c4e2d663",
   "metadata": {
    "ExecuteTime": {
     "end_time": "2021-06-07T14:18:27.251279Z",
     "start_time": "2021-06-07T14:17:29.835290Z"
    },
    "hidden": true
   },
   "outputs": [
    {
     "name": "stdout",
     "output_type": "stream",
     "text": [
      "Balanced Accuracy: 0.7304768002791657\n"
     ]
    }
   ],
   "source": [
    "# model definition with k = 10\n",
    "knn_model = nh.KNeighborsClassifier( n_neighbors = 10 )\n",
    "\n",
    "# model training\n",
    "knn_model.fit( x_train_res, y_train_res.values.ravel() )\n",
    "\n",
    "# model prediction  \n",
    "yhat_knn = knn_model.predict( x_test ) \n",
    "\n",
    "#metrics \n",
    "print('Balanced Accuracy: '   + str(balanced_accuracy_score(y_test,yhat_knn)))"
   ]
  },
  {
   "cell_type": "markdown",
   "id": "ece9ed27",
   "metadata": {
    "heading_collapsed": true,
    "hidden": true
   },
   "source": [
    "## 7.3. Extra Trees"
   ]
  },
  {
   "cell_type": "code",
   "execution_count": 66,
   "id": "6407dd25",
   "metadata": {
    "ExecuteTime": {
     "end_time": "2021-06-07T14:18:50.039871Z",
     "start_time": "2021-06-07T14:18:38.372098Z"
    },
    "hidden": true
   },
   "outputs": [
    {
     "name": "stdout",
     "output_type": "stream",
     "text": [
      "Balanced Accuracy: 0.633330858728889\n"
     ]
    }
   ],
   "source": [
    "# model definition\n",
    "et = ExtraTreesClassifier( n_jobs=-1, random_state=42 ) \n",
    "\n",
    "# model training\n",
    "et.fit( x_train_res, y_train_res.values.ravel() )\n",
    "\n",
    "# model prediction\n",
    "yhat_et = et.predict(x_test)\n",
    "\n",
    "#metrics \n",
    "print('Balanced Accuracy: '   + str(balanced_accuracy_score(y_test,yhat_et)))"
   ]
  },
  {
   "cell_type": "markdown",
   "id": "4d081728",
   "metadata": {
    "heading_collapsed": true,
    "hidden": true
   },
   "source": [
    "## 7.4. XGBoost Classifier"
   ]
  },
  {
   "cell_type": "code",
   "execution_count": 67,
   "id": "d06d7119",
   "metadata": {
    "ExecuteTime": {
     "end_time": "2021-06-07T14:18:51.049806Z",
     "start_time": "2021-06-07T14:18:50.437418Z"
    },
    "hidden": true
   },
   "outputs": [
    {
     "name": "stdout",
     "output_type": "stream",
     "text": [
      "Balanced Accuracy: 0.7927364405780136\n"
     ]
    }
   ],
   "source": [
    "# model definition\n",
    "model_xgb = xgb.XGBClassifier(n_estimators = 7, \n",
    "                              eta = 0.01, \n",
    "                              max_depth = 2, \n",
    "                              subsample = 0.7,\n",
    "                              use_label_encoder = False,\n",
    "                              eval_metric = 'aucpr',\n",
    "                              colsample_bytree = 0.9)\n",
    "\n",
    "#model training\n",
    "model_xgb.fit( x_train_res, y_train_res.values.ravel() )\n",
    "\n",
    "# prediction\n",
    "yhat_xgb = model_xgb.predict( x_test )\n",
    "\n",
    "#metrics \n",
    "print('Balanced Accuracy: '   + str(balanced_accuracy_score(y_test,yhat_xgb)))"
   ]
  },
  {
   "cell_type": "markdown",
   "id": "80957a0f",
   "metadata": {
    "heading_collapsed": true,
    "hidden": true
   },
   "source": [
    "## 7.5. Gaussian NB Classifier"
   ]
  },
  {
   "cell_type": "code",
   "execution_count": 68,
   "id": "f010082b",
   "metadata": {
    "ExecuteTime": {
     "end_time": "2021-06-07T14:19:05.300428Z",
     "start_time": "2021-06-07T14:19:05.108940Z"
    },
    "hidden": true
   },
   "outputs": [
    {
     "name": "stdout",
     "output_type": "stream",
     "text": [
      "Balanced Accuracy: 0.7844873886008956\n"
     ]
    }
   ],
   "source": [
    "#model definition\n",
    "model_nb = GaussianNB()\n",
    "\n",
    "#train model\n",
    "model_nb.fit( x_train_res, y_train_res.values.ravel() )\n",
    "\n",
    "#prediction\n",
    "yhat_nb = model_nb.predict( x_test )\n",
    "yhat_nb_1 = model_nb.predict_proba( x_test )\n",
    "\n",
    "#metrics \n",
    "print('Balanced Accuracy: '   + str(balanced_accuracy_score(y_test,yhat_nb)))"
   ]
  },
  {
   "cell_type": "markdown",
   "id": "4d9bcdf0",
   "metadata": {
    "heading_collapsed": true,
    "hidden": true
   },
   "source": [
    "## 7.6. Random Forest Classifier"
   ]
  },
  {
   "cell_type": "code",
   "execution_count": 73,
   "id": "d0d4da81",
   "metadata": {
    "ExecuteTime": {
     "end_time": "2021-06-07T14:23:12.527034Z",
     "start_time": "2021-06-07T14:22:57.794836Z"
    },
    "hidden": true
   },
   "outputs": [
    {
     "name": "stdout",
     "output_type": "stream",
     "text": [
      "Balanced Accuracy: 0.792459500508773\n"
     ]
    }
   ],
   "source": [
    "#model definition\n",
    "model_rf = RandomForestClassifier(max_depth = 2, random_state = 42)\n",
    "\n",
    "#train model\n",
    "model_rf.fit( x_train_res, y_train_res.values.ravel() )\n",
    "\n",
    "#predict\n",
    "yhat_rf = model_rf.predict( x_test )\n",
    "\n",
    "#metrics \n",
    "print('Balanced Accuracy: '   + str(balanced_accuracy_score(y_test,yhat_rf)))"
   ]
  },
  {
   "cell_type": "markdown",
   "id": "bb6fdc21",
   "metadata": {
    "heading_collapsed": true
   },
   "source": [
    "# 8.0. CROSS-VALIDATION WITH TOP-K METRICS"
   ]
  },
  {
   "cell_type": "code",
   "execution_count": 75,
   "id": "49d95135",
   "metadata": {
    "ExecuteTime": {
     "end_time": "2021-06-07T14:25:31.338455Z",
     "start_time": "2021-06-07T14:25:31.322984Z"
    },
    "hidden": true
   },
   "outputs": [],
   "source": [
    "df4 = df3.copy()"
   ]
  },
  {
   "cell_type": "code",
   "execution_count": 76,
   "id": "7475b99f",
   "metadata": {
    "ExecuteTime": {
     "end_time": "2021-06-07T14:28:03.056822Z",
     "start_time": "2021-06-07T14:25:32.391239Z"
    },
    "hidden": true
   },
   "outputs": [],
   "source": [
    "xgb_val = cross_validation(model_xgb, x_train_res, y_train_res, 5, df4, Verbose = False)\n",
    "lr_val = cross_validation(lr_model, x_train_res, y_train_res, 5, df4, Verbose = False)\n",
    "et_val = cross_validation(et, x_train_res, y_train_res, 5, df4, Verbose = False)\n",
    "nb_val = cross_validation(model_nb, x_train_res, y_train_res, 5, df4, Verbose = False)\n",
    "rf_val = cross_validation(model_rf, x_train_res, y_train_res, 5, df4, Verbose = False)"
   ]
  },
  {
   "cell_type": "code",
   "execution_count": 77,
   "id": "6211c11c",
   "metadata": {
    "ExecuteTime": {
     "end_time": "2021-06-07T14:28:03.115540Z",
     "start_time": "2021-06-07T14:28:03.065314Z"
    },
    "hidden": true
   },
   "outputs": [
    {
     "data": {
      "text/html": [
       "<div>\n",
       "<style scoped>\n",
       "    .dataframe tbody tr th:only-of-type {\n",
       "        vertical-align: middle;\n",
       "    }\n",
       "\n",
       "    .dataframe tbody tr th {\n",
       "        vertical-align: top;\n",
       "    }\n",
       "\n",
       "    .dataframe thead th {\n",
       "        text-align: right;\n",
       "    }\n",
       "</style>\n",
       "<table border=\"1\" class=\"dataframe\">\n",
       "  <thead>\n",
       "    <tr style=\"text-align: right;\">\n",
       "      <th></th>\n",
       "      <th>Model Name</th>\n",
       "      <th>Accuracy Mean</th>\n",
       "      <th>Precision Mean</th>\n",
       "      <th>Precision STD</th>\n",
       "      <th>Recall Mean</th>\n",
       "      <th>Recall STD</th>\n",
       "      <th>Precision@K Mean</th>\n",
       "      <th>Precision@K STD</th>\n",
       "      <th>Recall@K Mean</th>\n",
       "      <th>Recall@K STD</th>\n",
       "    </tr>\n",
       "  </thead>\n",
       "  <tbody>\n",
       "    <tr>\n",
       "      <th>0</th>\n",
       "      <td>GaussianNB</td>\n",
       "      <td>0.79</td>\n",
       "      <td>0.71</td>\n",
       "      <td>0.00</td>\n",
       "      <td>0.98</td>\n",
       "      <td>0.00</td>\n",
       "      <td>0.78</td>\n",
       "      <td>0.00</td>\n",
       "      <td>0.30</td>\n",
       "      <td>0.00</td>\n",
       "    </tr>\n",
       "    <tr>\n",
       "      <th>0</th>\n",
       "      <td>ExtraTreesClassifier</td>\n",
       "      <td>0.92</td>\n",
       "      <td>0.89</td>\n",
       "      <td>0.00</td>\n",
       "      <td>0.95</td>\n",
       "      <td>0.00</td>\n",
       "      <td>1.00</td>\n",
       "      <td>0.00</td>\n",
       "      <td>0.38</td>\n",
       "      <td>0.00</td>\n",
       "    </tr>\n",
       "    <tr>\n",
       "      <th>0</th>\n",
       "      <td>XGBClassifier</td>\n",
       "      <td>0.78</td>\n",
       "      <td>0.72</td>\n",
       "      <td>0.02</td>\n",
       "      <td>0.94</td>\n",
       "      <td>0.05</td>\n",
       "      <td>0.77</td>\n",
       "      <td>0.04</td>\n",
       "      <td>0.29</td>\n",
       "      <td>0.02</td>\n",
       "    </tr>\n",
       "    <tr>\n",
       "      <th>0</th>\n",
       "      <td>LogisticRegression</td>\n",
       "      <td>0.80</td>\n",
       "      <td>0.73</td>\n",
       "      <td>0.00</td>\n",
       "      <td>0.93</td>\n",
       "      <td>0.00</td>\n",
       "      <td>0.79</td>\n",
       "      <td>0.00</td>\n",
       "      <td>0.30</td>\n",
       "      <td>0.00</td>\n",
       "    </tr>\n",
       "    <tr>\n",
       "      <th>0</th>\n",
       "      <td>RandomForestClassifier</td>\n",
       "      <td>0.80</td>\n",
       "      <td>0.74</td>\n",
       "      <td>0.00</td>\n",
       "      <td>0.92</td>\n",
       "      <td>0.00</td>\n",
       "      <td>0.81</td>\n",
       "      <td>0.00</td>\n",
       "      <td>0.31</td>\n",
       "      <td>0.00</td>\n",
       "    </tr>\n",
       "  </tbody>\n",
       "</table>\n",
       "</div>"
      ],
      "text/plain": [
       "               Model Name  Accuracy Mean  Precision Mean  Precision STD  \\\n",
       "0              GaussianNB           0.79            0.71           0.00   \n",
       "0    ExtraTreesClassifier           0.92            0.89           0.00   \n",
       "0           XGBClassifier           0.78            0.72           0.02   \n",
       "0      LogisticRegression           0.80            0.73           0.00   \n",
       "0  RandomForestClassifier           0.80            0.74           0.00   \n",
       "\n",
       "   Recall Mean  Recall STD  Precision@K Mean  Precision@K STD  Recall@K Mean  \\\n",
       "0         0.98        0.00              0.78             0.00           0.30   \n",
       "0         0.95        0.00              1.00             0.00           0.38   \n",
       "0         0.94        0.05              0.77             0.04           0.29   \n",
       "0         0.93        0.00              0.79             0.00           0.30   \n",
       "0         0.92        0.00              0.81             0.00           0.31   \n",
       "\n",
       "   Recall@K STD  \n",
       "0          0.00  \n",
       "0          0.00  \n",
       "0          0.02  \n",
       "0          0.00  \n",
       "0          0.00  "
      ]
     },
     "execution_count": 77,
     "metadata": {},
     "output_type": "execute_result"
    }
   ],
   "source": [
    "results = pd.concat([xgb_val,lr_val,et_val,nb_val,rf_val])\n",
    "results.sort_values(by = 'Recall Mean', ascending = False)"
   ]
  },
  {
   "cell_type": "markdown",
   "id": "566ed486",
   "metadata": {},
   "source": [
    "# 9.0 HYPERPARAMETER FINE-TUNING"
   ]
  },
  {
   "cell_type": "markdown",
   "id": "af70204e",
   "metadata": {
    "heading_collapsed": true
   },
   "source": [
    "## 9.1. Extra Trees Cassifier"
   ]
  },
  {
   "cell_type": "code",
   "execution_count": 87,
   "id": "2ee46c02",
   "metadata": {
    "ExecuteTime": {
     "end_time": "2021-06-07T16:29:41.147527Z",
     "start_time": "2021-06-07T14:50:59.111851Z"
    },
    "hidden": true
   },
   "outputs": [
    {
     "name": "stderr",
     "output_type": "stream",
     "text": [
      "\u001b[32m[I 2021-06-07 11:50:59,115]\u001b[0m A new study created in memory with name: no-name-072e7c0a-e84d-4ba7-ad95-04243dafd6ea\u001b[0m\n",
      "\u001b[32m[I 2021-06-07 11:51:34,069]\u001b[0m Trial 0 finished with value: 0.9616 and parameters: {'max_depth': 106, 'n_estimators': 98, 'min_samples_split': 4, 'min_samples_leaf': 3}. Best is trial 0 with value: 0.9616.\u001b[0m\n",
      "\u001b[32m[I 2021-06-07 11:52:04,163]\u001b[0m Trial 1 finished with value: 0.9637 and parameters: {'max_depth': 92, 'n_estimators': 83, 'min_samples_split': 2, 'min_samples_leaf': 2}. Best is trial 1 with value: 0.9637.\u001b[0m\n",
      "\u001b[32m[I 2021-06-07 11:52:33,544]\u001b[0m Trial 2 finished with value: 0.957 and parameters: {'max_depth': 84, 'n_estimators': 95, 'min_samples_split': 2, 'min_samples_leaf': 5}. Best is trial 1 with value: 0.9637.\u001b[0m\n",
      "\u001b[32m[I 2021-06-07 11:53:10,802]\u001b[0m Trial 3 finished with value: 0.957 and parameters: {'max_depth': 107, 'n_estimators': 120, 'min_samples_split': 3, 'min_samples_leaf': 5}. Best is trial 1 with value: 0.9637.\u001b[0m\n",
      "\u001b[32m[I 2021-06-07 11:54:12,486]\u001b[0m Trial 4 finished with value: 0.9639 and parameters: {'max_depth': 88, 'n_estimators': 110, 'min_samples_split': 3, 'min_samples_leaf': 2}. Best is trial 4 with value: 0.9639.\u001b[0m\n",
      "\u001b[32m[I 2021-06-07 11:55:12,901]\u001b[0m Trial 5 finished with value: 0.9637 and parameters: {'max_depth': 83, 'n_estimators': 87, 'min_samples_split': 2, 'min_samples_leaf': 2}. Best is trial 4 with value: 0.9639.\u001b[0m\n",
      "\u001b[32m[I 2021-06-07 11:55:56,372]\u001b[0m Trial 6 finished with value: 0.9616 and parameters: {'max_depth': 115, 'n_estimators': 107, 'min_samples_split': 2, 'min_samples_leaf': 3}. Best is trial 4 with value: 0.9639.\u001b[0m\n",
      "\u001b[32m[I 2021-06-07 11:57:21,969]\u001b[0m Trial 7 finished with value: 0.964 and parameters: {'max_depth': 93, 'n_estimators': 111, 'min_samples_split': 4, 'min_samples_leaf': 2}. Best is trial 7 with value: 0.964.\u001b[0m\n",
      "\u001b[32m[I 2021-06-07 11:57:53,140]\u001b[0m Trial 8 finished with value: 0.959 and parameters: {'max_depth': 120, 'n_estimators': 98, 'min_samples_split': 2, 'min_samples_leaf': 4}. Best is trial 7 with value: 0.964.\u001b[0m\n",
      "\u001b[32m[I 2021-06-07 11:58:24,655]\u001b[0m Trial 9 finished with value: 0.959 and parameters: {'max_depth': 92, 'n_estimators': 91, 'min_samples_split': 4, 'min_samples_leaf': 4}. Best is trial 7 with value: 0.964.\u001b[0m\n",
      "\u001b[32m[I 2021-06-07 11:59:59,717]\u001b[0m Trial 10 finished with value: 0.9561 and parameters: {'max_depth': 98, 'n_estimators': 119, 'min_samples_split': 5, 'min_samples_leaf': 1}. Best is trial 7 with value: 0.964.\u001b[0m\n",
      "\u001b[32m[I 2021-06-07 12:01:03,993]\u001b[0m Trial 11 finished with value: 0.954 and parameters: {'max_depth': 90, 'n_estimators': 109, 'min_samples_split': 3, 'min_samples_leaf': 1}. Best is trial 7 with value: 0.964.\u001b[0m\n",
      "\u001b[32m[I 2021-06-07 12:02:04,648]\u001b[0m Trial 12 finished with value: 0.9632 and parameters: {'max_depth': 99, 'n_estimators': 111, 'min_samples_split': 5, 'min_samples_leaf': 2}. Best is trial 7 with value: 0.964.\u001b[0m\n",
      "\u001b[32m[I 2021-06-07 12:03:23,854]\u001b[0m Trial 13 finished with value: 0.9639 and parameters: {'max_depth': 87, 'n_estimators': 115, 'min_samples_split': 4, 'min_samples_leaf': 2}. Best is trial 7 with value: 0.964.\u001b[0m\n",
      "\u001b[32m[I 2021-06-07 12:04:57,816]\u001b[0m Trial 14 finished with value: 0.954 and parameters: {'max_depth': 80, 'n_estimators': 103, 'min_samples_split': 3, 'min_samples_leaf': 1}. Best is trial 7 with value: 0.964.\u001b[0m\n",
      "\u001b[32m[I 2021-06-07 12:05:45,177]\u001b[0m Trial 15 finished with value: 0.9617 and parameters: {'max_depth': 95, 'n_estimators': 114, 'min_samples_split': 4, 'min_samples_leaf': 3}. Best is trial 7 with value: 0.964.\u001b[0m\n",
      "\u001b[32m[I 2021-06-07 12:06:56,542]\u001b[0m Trial 16 finished with value: 0.964 and parameters: {'max_depth': 104, 'n_estimators': 105, 'min_samples_split': 3, 'min_samples_leaf': 2}. Best is trial 7 with value: 0.964.\u001b[0m\n",
      "\u001b[32m[I 2021-06-07 12:08:21,333]\u001b[0m Trial 17 finished with value: 0.9559 and parameters: {'max_depth': 106, 'n_estimators': 103, 'min_samples_split': 5, 'min_samples_leaf': 1}. Best is trial 7 with value: 0.964.\u001b[0m\n",
      "\u001b[32m[I 2021-06-07 12:08:58,470]\u001b[0m Trial 18 finished with value: 0.9589 and parameters: {'max_depth': 113, 'n_estimators': 104, 'min_samples_split': 4, 'min_samples_leaf': 4}. Best is trial 7 with value: 0.964.\u001b[0m\n",
      "\u001b[32m[I 2021-06-07 12:10:05,686]\u001b[0m Trial 19 finished with value: 0.9639 and parameters: {'max_depth': 102, 'n_estimators': 116, 'min_samples_split': 3, 'min_samples_leaf': 2}. Best is trial 7 with value: 0.964.\u001b[0m\n",
      "\u001b[32m[I 2021-06-07 12:10:57,846]\u001b[0m Trial 20 finished with value: 0.9616 and parameters: {'max_depth': 111, 'n_estimators': 106, 'min_samples_split': 4, 'min_samples_leaf': 3}. Best is trial 7 with value: 0.964.\u001b[0m\n",
      "\u001b[32m[I 2021-06-07 12:12:02,519]\u001b[0m Trial 21 finished with value: 0.964 and parameters: {'max_depth': 96, 'n_estimators': 111, 'min_samples_split': 3, 'min_samples_leaf': 2}. Best is trial 7 with value: 0.964.\u001b[0m\n",
      "\u001b[32m[I 2021-06-07 12:13:00,761]\u001b[0m Trial 22 finished with value: 0.9639 and parameters: {'max_depth': 102, 'n_estimators': 112, 'min_samples_split': 3, 'min_samples_leaf': 2}. Best is trial 7 with value: 0.964.\u001b[0m\n",
      "\u001b[32m[I 2021-06-07 12:14:35,154]\u001b[0m Trial 23 finished with value: 0.9543 and parameters: {'max_depth': 96, 'n_estimators': 118, 'min_samples_split': 3, 'min_samples_leaf': 1}. Best is trial 7 with value: 0.964.\u001b[0m\n",
      "\u001b[32m[I 2021-06-07 12:15:23,474]\u001b[0m Trial 24 finished with value: 0.9641 and parameters: {'max_depth': 102, 'n_estimators': 107, 'min_samples_split': 3, 'min_samples_leaf': 2}. Best is trial 24 with value: 0.9641.\u001b[0m\n",
      "\u001b[32m[I 2021-06-07 12:16:20,172]\u001b[0m Trial 25 finished with value: 0.9616 and parameters: {'max_depth': 95, 'n_estimators': 108, 'min_samples_split': 4, 'min_samples_leaf': 3}. Best is trial 24 with value: 0.9641.\u001b[0m\n",
      "\u001b[32m[I 2021-06-07 12:17:22,233]\u001b[0m Trial 26 finished with value: 0.9639 and parameters: {'max_depth': 99, 'n_estimators': 114, 'min_samples_split': 3, 'min_samples_leaf': 2}. Best is trial 24 with value: 0.9641.\u001b[0m\n",
      "\u001b[32m[I 2021-06-07 12:18:37,261]\u001b[0m Trial 27 finished with value: 0.954 and parameters: {'max_depth': 103, 'n_estimators': 101, 'min_samples_split': 3, 'min_samples_leaf': 1}. Best is trial 24 with value: 0.9641.\u001b[0m\n",
      "\u001b[32m[I 2021-06-07 12:19:37,174]\u001b[0m Trial 28 finished with value: 0.9639 and parameters: {'max_depth': 93, 'n_estimators': 112, 'min_samples_split': 4, 'min_samples_leaf': 2}. Best is trial 24 with value: 0.9641.\u001b[0m\n",
      "\u001b[32m[I 2021-06-07 12:20:28,905]\u001b[0m Trial 29 finished with value: 0.9615 and parameters: {'max_depth': 108, 'n_estimators': 99, 'min_samples_split': 4, 'min_samples_leaf': 3}. Best is trial 24 with value: 0.9641.\u001b[0m\n",
      "\u001b[32m[I 2021-06-07 12:21:07,776]\u001b[0m Trial 30 finished with value: 0.9615 and parameters: {'max_depth': 104, 'n_estimators': 95, 'min_samples_split': 3, 'min_samples_leaf': 3}. Best is trial 24 with value: 0.9641.\u001b[0m\n",
      "\u001b[32m[I 2021-06-07 12:22:09,993]\u001b[0m Trial 31 finished with value: 0.9641 and parameters: {'max_depth': 97, 'n_estimators': 106, 'min_samples_split': 3, 'min_samples_leaf': 2}. Best is trial 24 with value: 0.9641.\u001b[0m\n",
      "\u001b[32m[I 2021-06-07 12:23:03,047]\u001b[0m Trial 32 finished with value: 0.9641 and parameters: {'max_depth': 97, 'n_estimators': 108, 'min_samples_split': 3, 'min_samples_leaf': 2}. Best is trial 24 with value: 0.9641.\u001b[0m\n",
      "\u001b[32m[I 2021-06-07 12:24:00,891]\u001b[0m Trial 33 finished with value: 0.9641 and parameters: {'max_depth': 98, 'n_estimators': 107, 'min_samples_split': 2, 'min_samples_leaf': 2}. Best is trial 24 with value: 0.9641.\u001b[0m\n",
      "\u001b[32m[I 2021-06-07 12:25:22,062]\u001b[0m Trial 34 finished with value: 0.9539 and parameters: {'max_depth': 100, 'n_estimators': 101, 'min_samples_split': 2, 'min_samples_leaf': 1}. Best is trial 24 with value: 0.9641.\u001b[0m\n",
      "\u001b[32m[I 2021-06-07 12:26:11,737]\u001b[0m Trial 35 finished with value: 0.9641 and parameters: {'max_depth': 97, 'n_estimators': 107, 'min_samples_split': 2, 'min_samples_leaf': 2}. Best is trial 24 with value: 0.9641.\u001b[0m\n",
      "\u001b[32m[I 2021-06-07 12:27:07,916]\u001b[0m Trial 36 finished with value: 0.9642 and parameters: {'max_depth': 89, 'n_estimators': 95, 'min_samples_split': 2, 'min_samples_leaf': 2}. Best is trial 36 with value: 0.9642.\u001b[0m\n",
      "\u001b[32m[I 2021-06-07 12:27:59,034]\u001b[0m Trial 37 finished with value: 0.9642 and parameters: {'max_depth': 89, 'n_estimators': 96, 'min_samples_split': 2, 'min_samples_leaf': 2}. Best is trial 36 with value: 0.9642.\u001b[0m\n"
     ]
    },
    {
     "name": "stderr",
     "output_type": "stream",
     "text": [
      "\u001b[32m[I 2021-06-07 12:28:41,427]\u001b[0m Trial 38 finished with value: 0.9615 and parameters: {'max_depth': 86, 'n_estimators': 95, 'min_samples_split': 2, 'min_samples_leaf': 3}. Best is trial 36 with value: 0.9642.\u001b[0m\n",
      "\u001b[32m[I 2021-06-07 12:29:51,079]\u001b[0m Trial 39 finished with value: 0.9537 and parameters: {'max_depth': 81, 'n_estimators': 83, 'min_samples_split': 2, 'min_samples_leaf': 1}. Best is trial 36 with value: 0.9642.\u001b[0m\n",
      "\u001b[32m[I 2021-06-07 12:30:37,133]\u001b[0m Trial 40 finished with value: 0.9638 and parameters: {'max_depth': 89, 'n_estimators': 90, 'min_samples_split': 2, 'min_samples_leaf': 2}. Best is trial 36 with value: 0.9642.\u001b[0m\n",
      "\u001b[32m[I 2021-06-07 12:31:35,182]\u001b[0m Trial 41 finished with value: 0.9638 and parameters: {'max_depth': 85, 'n_estimators': 92, 'min_samples_split': 3, 'min_samples_leaf': 2}. Best is trial 36 with value: 0.9642.\u001b[0m\n",
      "\u001b[32m[I 2021-06-07 12:32:20,219]\u001b[0m Trial 42 finished with value: 0.9642 and parameters: {'max_depth': 90, 'n_estimators': 96, 'min_samples_split': 2, 'min_samples_leaf': 2}. Best is trial 36 with value: 0.9642.\u001b[0m\n",
      "\u001b[32m[I 2021-06-07 12:33:15,969]\u001b[0m Trial 43 finished with value: 0.9642 and parameters: {'max_depth': 90, 'n_estimators': 97, 'min_samples_split': 2, 'min_samples_leaf': 2}. Best is trial 36 with value: 0.9642.\u001b[0m\n",
      "\u001b[32m[I 2021-06-07 12:34:10,793]\u001b[0m Trial 44 finished with value: 0.9642 and parameters: {'max_depth': 91, 'n_estimators': 96, 'min_samples_split': 2, 'min_samples_leaf': 2}. Best is trial 36 with value: 0.9642.\u001b[0m\n",
      "\u001b[32m[I 2021-06-07 12:34:55,981]\u001b[0m Trial 45 finished with value: 0.9616 and parameters: {'max_depth': 83, 'n_estimators': 97, 'min_samples_split': 2, 'min_samples_leaf': 3}. Best is trial 36 with value: 0.9642.\u001b[0m\n",
      "\u001b[32m[I 2021-06-07 12:35:50,238]\u001b[0m Trial 46 finished with value: 0.9639 and parameters: {'max_depth': 90, 'n_estimators': 93, 'min_samples_split': 2, 'min_samples_leaf': 2}. Best is trial 36 with value: 0.9642.\u001b[0m\n",
      "\u001b[32m[I 2021-06-07 12:37:05,428]\u001b[0m Trial 47 finished with value: 0.9541 and parameters: {'max_depth': 91, 'n_estimators': 89, 'min_samples_split': 2, 'min_samples_leaf': 1}. Best is trial 36 with value: 0.9642.\u001b[0m\n",
      "\u001b[32m[I 2021-06-07 12:37:46,093]\u001b[0m Trial 48 finished with value: 0.9615 and parameters: {'max_depth': 87, 'n_estimators': 96, 'min_samples_split': 2, 'min_samples_leaf': 3}. Best is trial 36 with value: 0.9642.\u001b[0m\n",
      "\u001b[32m[I 2021-06-07 12:38:39,684]\u001b[0m Trial 49 finished with value: 0.9639 and parameters: {'max_depth': 93, 'n_estimators': 93, 'min_samples_split': 2, 'min_samples_leaf': 2}. Best is trial 36 with value: 0.9642.\u001b[0m\n",
      "\u001b[32m[I 2021-06-07 12:39:55,667]\u001b[0m Trial 50 finished with value: 0.9521 and parameters: {'max_depth': 88, 'n_estimators': 86, 'min_samples_split': 2, 'min_samples_leaf': 1}. Best is trial 36 with value: 0.9642.\u001b[0m\n",
      "\u001b[32m[I 2021-06-07 12:40:43,424]\u001b[0m Trial 51 finished with value: 0.9642 and parameters: {'max_depth': 83, 'n_estimators': 98, 'min_samples_split': 2, 'min_samples_leaf': 2}. Best is trial 36 with value: 0.9642.\u001b[0m\n",
      "\u001b[32m[I 2021-06-07 12:41:47,630]\u001b[0m Trial 52 finished with value: 0.9642 and parameters: {'max_depth': 83, 'n_estimators': 98, 'min_samples_split': 2, 'min_samples_leaf': 2}. Best is trial 36 with value: 0.9642.\u001b[0m\n",
      "\u001b[32m[I 2021-06-07 12:42:39,487]\u001b[0m Trial 53 finished with value: 0.9642 and parameters: {'max_depth': 81, 'n_estimators': 98, 'min_samples_split': 2, 'min_samples_leaf': 2}. Best is trial 36 with value: 0.9642.\u001b[0m\n",
      "\u001b[32m[I 2021-06-07 12:43:41,029]\u001b[0m Trial 54 finished with value: 0.9643 and parameters: {'max_depth': 81, 'n_estimators': 101, 'min_samples_split': 2, 'min_samples_leaf': 2}. Best is trial 54 with value: 0.9643.\u001b[0m\n",
      "\u001b[32m[I 2021-06-07 12:44:43,961]\u001b[0m Trial 55 finished with value: 0.9642 and parameters: {'max_depth': 81, 'n_estimators': 100, 'min_samples_split': 2, 'min_samples_leaf': 2}. Best is trial 54 with value: 0.9643.\u001b[0m\n",
      "\u001b[32m[I 2021-06-07 12:45:36,592]\u001b[0m Trial 56 finished with value: 0.9642 and parameters: {'max_depth': 81, 'n_estimators': 100, 'min_samples_split': 2, 'min_samples_leaf': 2}. Best is trial 54 with value: 0.9643.\u001b[0m\n",
      "\u001b[32m[I 2021-06-07 12:46:32,850]\u001b[0m Trial 57 finished with value: 0.9616 and parameters: {'max_depth': 81, 'n_estimators': 100, 'min_samples_split': 2, 'min_samples_leaf': 3}. Best is trial 54 with value: 0.9643.\u001b[0m\n",
      "\u001b[32m[I 2021-06-07 12:47:53,686]\u001b[0m Trial 58 finished with value: 0.9524 and parameters: {'max_depth': 85, 'n_estimators': 102, 'min_samples_split': 2, 'min_samples_leaf': 1}. Best is trial 54 with value: 0.9643.\u001b[0m\n",
      "\u001b[32m[I 2021-06-07 12:48:50,328]\u001b[0m Trial 59 finished with value: 0.9642 and parameters: {'max_depth': 80, 'n_estimators': 100, 'min_samples_split': 2, 'min_samples_leaf': 2}. Best is trial 54 with value: 0.9643.\u001b[0m\n",
      "\u001b[32m[I 2021-06-07 12:49:46,092]\u001b[0m Trial 60 finished with value: 0.9569 and parameters: {'max_depth': 80, 'n_estimators': 104, 'min_samples_split': 2, 'min_samples_leaf': 5}. Best is trial 54 with value: 0.9643.\u001b[0m\n",
      "\u001b[32m[I 2021-06-07 12:50:44,685]\u001b[0m Trial 61 finished with value: 0.9642 and parameters: {'max_depth': 83, 'n_estimators': 98, 'min_samples_split': 2, 'min_samples_leaf': 2}. Best is trial 54 with value: 0.9643.\u001b[0m\n",
      "\u001b[32m[I 2021-06-07 12:51:40,573]\u001b[0m Trial 62 finished with value: 0.9642 and parameters: {'max_depth': 83, 'n_estimators': 97, 'min_samples_split': 2, 'min_samples_leaf': 2}. Best is trial 54 with value: 0.9643.\u001b[0m\n",
      "\u001b[32m[I 2021-06-07 12:52:41,997]\u001b[0m Trial 63 finished with value: 0.9641 and parameters: {'max_depth': 88, 'n_estimators': 94, 'min_samples_split': 2, 'min_samples_leaf': 2}. Best is trial 54 with value: 0.9643.\u001b[0m\n",
      "\u001b[32m[I 2021-06-07 12:53:36,539]\u001b[0m Trial 64 finished with value: 0.9642 and parameters: {'max_depth': 81, 'n_estimators': 100, 'min_samples_split': 2, 'min_samples_leaf': 2}. Best is trial 54 with value: 0.9643.\u001b[0m\n",
      "\u001b[32m[I 2021-06-07 12:54:27,680]\u001b[0m Trial 65 finished with value: 0.9591 and parameters: {'max_depth': 90, 'n_estimators': 96, 'min_samples_split': 2, 'min_samples_leaf': 4}. Best is trial 54 with value: 0.9643.\u001b[0m\n",
      "\u001b[32m[I 2021-06-07 12:55:30,481]\u001b[0m Trial 66 finished with value: 0.9641 and parameters: {'max_depth': 83, 'n_estimators': 94, 'min_samples_split': 2, 'min_samples_leaf': 2}. Best is trial 54 with value: 0.9643.\u001b[0m\n",
      "\u001b[32m[I 2021-06-07 12:56:22,925]\u001b[0m Trial 67 finished with value: 0.9642 and parameters: {'max_depth': 92, 'n_estimators': 97, 'min_samples_split': 2, 'min_samples_leaf': 2}. Best is trial 54 with value: 0.9643.\u001b[0m\n",
      "\u001b[32m[I 2021-06-07 12:57:22,038]\u001b[0m Trial 68 finished with value: 0.9639 and parameters: {'max_depth': 92, 'n_estimators': 91, 'min_samples_split': 2, 'min_samples_leaf': 2}. Best is trial 54 with value: 0.9643.\u001b[0m\n",
      "\u001b[32m[I 2021-06-07 12:58:13,865]\u001b[0m Trial 69 finished with value: 0.9615 and parameters: {'max_depth': 82, 'n_estimators': 102, 'min_samples_split': 2, 'min_samples_leaf': 3}. Best is trial 54 with value: 0.9643.\u001b[0m\n",
      "\u001b[32m[I 2021-06-07 12:59:43,345]\u001b[0m Trial 70 finished with value: 0.9538 and parameters: {'max_depth': 86, 'n_estimators': 99, 'min_samples_split': 2, 'min_samples_leaf': 1}. Best is trial 54 with value: 0.9643.\u001b[0m\n",
      "\u001b[32m[I 2021-06-07 13:00:37,448]\u001b[0m Trial 71 finished with value: 0.9642 and parameters: {'max_depth': 84, 'n_estimators': 98, 'min_samples_split': 2, 'min_samples_leaf': 2}. Best is trial 54 with value: 0.9643.\u001b[0m\n",
      "\u001b[32m[I 2021-06-07 13:01:47,791]\u001b[0m Trial 72 finished with value: 0.9642 and parameters: {'max_depth': 89, 'n_estimators': 96, 'min_samples_split': 2, 'min_samples_leaf': 2}. Best is trial 54 with value: 0.9643.\u001b[0m\n",
      "\u001b[32m[I 2021-06-07 13:02:38,616]\u001b[0m Trial 73 finished with value: 0.9642 and parameters: {'max_depth': 94, 'n_estimators': 98, 'min_samples_split': 2, 'min_samples_leaf': 2}. Best is trial 54 with value: 0.9643.\u001b[0m\n",
      "\u001b[32m[I 2021-06-07 13:03:42,704]\u001b[0m Trial 74 finished with value: 0.9641 and parameters: {'max_depth': 87, 'n_estimators': 94, 'min_samples_split': 2, 'min_samples_leaf': 2}. Best is trial 54 with value: 0.9643.\u001b[0m\n",
      "\u001b[32m[I 2021-06-07 13:04:48,936]\u001b[0m Trial 75 finished with value: 0.9641 and parameters: {'max_depth': 95, 'n_estimators': 102, 'min_samples_split': 2, 'min_samples_leaf': 2}. Best is trial 54 with value: 0.9643.\u001b[0m\n"
     ]
    },
    {
     "name": "stderr",
     "output_type": "stream",
     "text": [
      "\u001b[32m[I 2021-06-07 13:05:40,145]\u001b[0m Trial 76 finished with value: 0.9638 and parameters: {'max_depth': 85, 'n_estimators': 92, 'min_samples_split': 2, 'min_samples_leaf': 2}. Best is trial 54 with value: 0.9643.\u001b[0m\n",
      "\u001b[32m[I 2021-06-07 13:06:45,813]\u001b[0m Trial 77 finished with value: 0.9641 and parameters: {'max_depth': 81, 'n_estimators': 104, 'min_samples_split': 2, 'min_samples_leaf': 2}. Best is trial 54 with value: 0.9643.\u001b[0m\n",
      "\u001b[32m[I 2021-06-07 13:07:51,102]\u001b[0m Trial 78 finished with value: 0.9642 and parameters: {'max_depth': 80, 'n_estimators': 100, 'min_samples_split': 2, 'min_samples_leaf': 2}. Best is trial 54 with value: 0.9643.\u001b[0m\n",
      "\u001b[32m[I 2021-06-07 13:09:14,776]\u001b[0m Trial 79 finished with value: 0.9523 and parameters: {'max_depth': 80, 'n_estimators': 100, 'min_samples_split': 2, 'min_samples_leaf': 1}. Best is trial 54 with value: 0.9643.\u001b[0m\n",
      "\u001b[32m[I 2021-06-07 13:10:14,053]\u001b[0m Trial 80 finished with value: 0.9642 and parameters: {'max_depth': 91, 'n_estimators': 95, 'min_samples_split': 2, 'min_samples_leaf': 2}. Best is trial 54 with value: 0.9643.\u001b[0m\n",
      "\u001b[32m[I 2021-06-07 13:11:15,088]\u001b[0m Trial 81 finished with value: 0.9642 and parameters: {'max_depth': 84, 'n_estimators': 99, 'min_samples_split': 2, 'min_samples_leaf': 2}. Best is trial 54 with value: 0.9643.\u001b[0m\n",
      "\u001b[32m[I 2021-06-07 13:12:11,971]\u001b[0m Trial 82 finished with value: 0.9642 and parameters: {'max_depth': 84, 'n_estimators': 95, 'min_samples_split': 2, 'min_samples_leaf': 2}. Best is trial 54 with value: 0.9643.\u001b[0m\n",
      "\u001b[32m[I 2021-06-07 13:13:14,395]\u001b[0m Trial 83 finished with value: 0.9643 and parameters: {'max_depth': 82, 'n_estimators': 101, 'min_samples_split': 2, 'min_samples_leaf': 2}. Best is trial 54 with value: 0.9643.\u001b[0m\n",
      "\u001b[32m[I 2021-06-07 13:14:13,995]\u001b[0m Trial 84 finished with value: 0.9642 and parameters: {'max_depth': 86, 'n_estimators': 97, 'min_samples_split': 2, 'min_samples_leaf': 2}. Best is trial 54 with value: 0.9643.\u001b[0m\n",
      "\u001b[32m[I 2021-06-07 13:15:21,301]\u001b[0m Trial 85 finished with value: 0.9643 and parameters: {'max_depth': 82, 'n_estimators': 101, 'min_samples_split': 2, 'min_samples_leaf': 2}. Best is trial 54 with value: 0.9643.\u001b[0m\n",
      "\u001b[32m[I 2021-06-07 13:16:15,337]\u001b[0m Trial 86 finished with value: 0.9641 and parameters: {'max_depth': 82, 'n_estimators': 103, 'min_samples_split': 2, 'min_samples_leaf': 2}. Best is trial 54 with value: 0.9643.\u001b[0m\n",
      "\u001b[32m[I 2021-06-07 13:17:22,856]\u001b[0m Trial 87 finished with value: 0.9643 and parameters: {'max_depth': 82, 'n_estimators': 101, 'min_samples_split': 2, 'min_samples_leaf': 2}. Best is trial 54 with value: 0.9643.\u001b[0m\n",
      "\u001b[32m[I 2021-06-07 13:18:13,952]\u001b[0m Trial 88 finished with value: 0.9615 and parameters: {'max_depth': 82, 'n_estimators': 101, 'min_samples_split': 2, 'min_samples_leaf': 3}. Best is trial 54 with value: 0.9643.\u001b[0m\n",
      "\u001b[32m[I 2021-06-07 13:19:18,776]\u001b[0m Trial 89 finished with value: 0.964 and parameters: {'max_depth': 84, 'n_estimators': 105, 'min_samples_split': 2, 'min_samples_leaf': 2}. Best is trial 54 with value: 0.9643.\u001b[0m\n",
      "\u001b[32m[I 2021-06-07 13:20:45,309]\u001b[0m Trial 90 finished with value: 0.9538 and parameters: {'max_depth': 86, 'n_estimators': 99, 'min_samples_split': 2, 'min_samples_leaf': 1}. Best is trial 54 with value: 0.9643.\u001b[0m\n",
      "\u001b[32m[I 2021-06-07 13:21:41,042]\u001b[0m Trial 91 finished with value: 0.9642 and parameters: {'max_depth': 89, 'n_estimators': 96, 'min_samples_split': 2, 'min_samples_leaf': 2}. Best is trial 54 with value: 0.9643.\u001b[0m\n",
      "\u001b[32m[I 2021-06-07 13:22:42,089]\u001b[0m Trial 92 finished with value: 0.9641 and parameters: {'max_depth': 92, 'n_estimators': 102, 'min_samples_split': 2, 'min_samples_leaf': 2}. Best is trial 54 with value: 0.9643.\u001b[0m\n",
      "\u001b[32m[I 2021-06-07 13:23:40,655]\u001b[0m Trial 93 finished with value: 0.9643 and parameters: {'max_depth': 119, 'n_estimators': 101, 'min_samples_split': 2, 'min_samples_leaf': 2}. Best is trial 54 with value: 0.9643.\u001b[0m\n",
      "\u001b[32m[I 2021-06-07 13:24:43,310]\u001b[0m Trial 94 finished with value: 0.9643 and parameters: {'max_depth': 117, 'n_estimators': 101, 'min_samples_split': 2, 'min_samples_leaf': 2}. Best is trial 54 with value: 0.9643.\u001b[0m\n",
      "\u001b[32m[I 2021-06-07 13:25:40,973]\u001b[0m Trial 95 finished with value: 0.9631 and parameters: {'max_depth': 118, 'n_estimators': 104, 'min_samples_split': 5, 'min_samples_leaf': 2}. Best is trial 54 with value: 0.9643.\u001b[0m\n",
      "\u001b[32m[I 2021-06-07 13:26:43,402]\u001b[0m Trial 96 finished with value: 0.9643 and parameters: {'max_depth': 117, 'n_estimators': 101, 'min_samples_split': 2, 'min_samples_leaf': 2}. Best is trial 54 with value: 0.9643.\u001b[0m\n",
      "\u001b[32m[I 2021-06-07 13:27:41,124]\u001b[0m Trial 97 finished with value: 0.9641 and parameters: {'max_depth': 120, 'n_estimators': 103, 'min_samples_split': 2, 'min_samples_leaf': 2}. Best is trial 54 with value: 0.9643.\u001b[0m\n",
      "\u001b[32m[I 2021-06-07 13:28:38,787]\u001b[0m Trial 98 finished with value: 0.9643 and parameters: {'max_depth': 116, 'n_estimators': 101, 'min_samples_split': 2, 'min_samples_leaf': 2}. Best is trial 54 with value: 0.9643.\u001b[0m\n",
      "\u001b[32m[I 2021-06-07 13:29:41,140]\u001b[0m Trial 99 finished with value: 0.9643 and parameters: {'max_depth': 117, 'n_estimators': 101, 'min_samples_split': 2, 'min_samples_leaf': 2}. Best is trial 54 with value: 0.9643.\u001b[0m\n"
     ]
    },
    {
     "name": "stdout",
     "output_type": "stream",
     "text": [
      "Precision: 0.9643\n",
      "Best hyperparameters: {'max_depth': 81, 'n_estimators': 101, 'min_samples_split': 2, 'min_samples_leaf': 2}\n"
     ]
    }
   ],
   "source": [
    "def objective(trial):\n",
    "\n",
    "        random_state = 42\n",
    "        n_jobs = -1\n",
    "        max_depth = trial.suggest_int(\"max_depth\", 80, 120)\n",
    "        n_estimators = trial.suggest_int(\"n_estimators\", 80, 120)\n",
    "        min_samples_split = trial.suggest_int(\"min_samples_split\", 2, 5)\n",
    "        min_samples_leaf = trial.suggest_int(\"min_samples_leaf\", 1, 5)\n",
    "    \n",
    "\n",
    "        classifier_obj = ExtraTreesClassifier(random_state       = random_state,\n",
    "                                              n_jobs             = n_jobs,\n",
    "                                              max_depth          =  max_depth,\n",
    "                                              n_estimators       = n_estimators,\n",
    "                                              min_samples_split  = min_samples_split,\n",
    "                                              min_samples_leaf   = min_samples_leaf\n",
    "                                              \n",
    "                                             )\n",
    "\n",
    "  \n",
    "        result = cross_validation(classifier_obj, x_train_res, y_train_res, 5, df4, Verbose = False)\n",
    "    \n",
    "        return result['Recall Mean'][0]\n",
    "\n",
    "\n",
    "study = optuna.create_study(direction='maximize')\n",
    "study.optimize(objective, n_trials = 100)\n",
    "\n",
    "trial = study.best_trial\n",
    "\n",
    "print('Precision: {}'.format(trial.value))\n",
    "print(\"Best hyperparameters: {}\".format(trial.params))"
   ]
  },
  {
   "cell_type": "markdown",
   "id": "e385cc3f",
   "metadata": {
    "heading_collapsed": true
   },
   "source": [
    "## 9.2. Gaussian NB Classifier"
   ]
  },
  {
   "cell_type": "code",
   "execution_count": 88,
   "id": "b40fce33",
   "metadata": {
    "ExecuteTime": {
     "end_time": "2021-06-07T18:07:24.718688Z",
     "start_time": "2021-06-07T18:05:14.228117Z"
    },
    "hidden": true
   },
   "outputs": [
    {
     "name": "stderr",
     "output_type": "stream",
     "text": [
      "\u001b[32m[I 2021-06-07 15:05:14,230]\u001b[0m A new study created in memory with name: no-name-9e1e7e8e-3ceb-4e67-ba5d-6dc63cc4b0b2\u001b[0m\n",
      "\u001b[32m[I 2021-06-07 15:05:15,408]\u001b[0m Trial 0 finished with value: 0.9782 and parameters: {'var_smoothing': 0.000624625341579604}. Best is trial 0 with value: 0.9782.\u001b[0m\n",
      "\u001b[32m[I 2021-06-07 15:05:16,586]\u001b[0m Trial 1 finished with value: 0.9781 and parameters: {'var_smoothing': 1.6128516433651143e-08}. Best is trial 0 with value: 0.9782.\u001b[0m\n",
      "\u001b[32m[I 2021-06-07 15:05:17,770]\u001b[0m Trial 2 finished with value: 0.9782 and parameters: {'var_smoothing': 1.559738594263286e-05}. Best is trial 0 with value: 0.9782.\u001b[0m\n",
      "\u001b[32m[I 2021-06-07 15:05:19,085]\u001b[0m Trial 3 finished with value: 0.9781 and parameters: {'var_smoothing': 2.3243470981901794e-08}. Best is trial 0 with value: 0.9782.\u001b[0m\n",
      "\u001b[32m[I 2021-06-07 15:05:20,358]\u001b[0m Trial 4 finished with value: 0.9781 and parameters: {'var_smoothing': 1.5180159723835438e-08}. Best is trial 0 with value: 0.9782.\u001b[0m\n",
      "\u001b[32m[I 2021-06-07 15:05:21,611]\u001b[0m Trial 5 finished with value: 0.9782 and parameters: {'var_smoothing': 0.05984557830571353}. Best is trial 0 with value: 0.9782.\u001b[0m\n",
      "\u001b[32m[I 2021-06-07 15:05:22,866]\u001b[0m Trial 6 finished with value: 0.9781 and parameters: {'var_smoothing': 6.0188372310392165e-09}. Best is trial 0 with value: 0.9782.\u001b[0m\n",
      "\u001b[32m[I 2021-06-07 15:05:24,158]\u001b[0m Trial 7 finished with value: 0.9781 and parameters: {'var_smoothing': 3.4915263503270915e-09}. Best is trial 0 with value: 0.9782.\u001b[0m\n",
      "\u001b[32m[I 2021-06-07 15:05:25,473]\u001b[0m Trial 8 finished with value: 0.9781 and parameters: {'var_smoothing': 2.2035781729768755e-07}. Best is trial 0 with value: 0.9782.\u001b[0m\n",
      "\u001b[32m[I 2021-06-07 15:05:26,756]\u001b[0m Trial 9 finished with value: 0.9782 and parameters: {'var_smoothing': 0.03566475804852209}. Best is trial 0 with value: 0.9782.\u001b[0m\n",
      "\u001b[32m[I 2021-06-07 15:05:28,048]\u001b[0m Trial 10 finished with value: 0.9782 and parameters: {'var_smoothing': 0.0008788624072965881}. Best is trial 0 with value: 0.9782.\u001b[0m\n",
      "\u001b[32m[I 2021-06-07 15:05:29,338]\u001b[0m Trial 11 finished with value: 0.9781 and parameters: {'var_smoothing': 1.1145599848771936e-05}. Best is trial 0 with value: 0.9782.\u001b[0m\n",
      "\u001b[32m[I 2021-06-07 15:05:30,621]\u001b[0m Trial 12 finished with value: 0.9782 and parameters: {'var_smoothing': 5.6053265903116407e-05}. Best is trial 0 with value: 0.9782.\u001b[0m\n",
      "\u001b[32m[I 2021-06-07 15:05:31,918]\u001b[0m Trial 13 finished with value: 0.9782 and parameters: {'var_smoothing': 0.0005494058680914343}. Best is trial 0 with value: 0.9782.\u001b[0m\n",
      "\u001b[32m[I 2021-06-07 15:05:33,198]\u001b[0m Trial 14 finished with value: 0.9781 and parameters: {'var_smoothing': 2.402015449792049e-06}. Best is trial 0 with value: 0.9782.\u001b[0m\n",
      "\u001b[32m[I 2021-06-07 15:05:34,469]\u001b[0m Trial 15 finished with value: 0.9782 and parameters: {'var_smoothing': 0.0018454745442539708}. Best is trial 0 with value: 0.9782.\u001b[0m\n",
      "\u001b[32m[I 2021-06-07 15:05:35,746]\u001b[0m Trial 16 finished with value: 0.9782 and parameters: {'var_smoothing': 7.211300404816295e-05}. Best is trial 0 with value: 0.9782.\u001b[0m\n",
      "\u001b[32m[I 2021-06-07 15:05:37,018]\u001b[0m Trial 17 finished with value: 0.9782 and parameters: {'var_smoothing': 0.0023030348464770246}. Best is trial 0 with value: 0.9782.\u001b[0m\n",
      "\u001b[32m[I 2021-06-07 15:05:38,298]\u001b[0m Trial 18 finished with value: 0.9787 and parameters: {'var_smoothing': 0.9912176235982135}. Best is trial 18 with value: 0.9787.\u001b[0m\n",
      "\u001b[32m[I 2021-06-07 15:05:39,566]\u001b[0m Trial 19 finished with value: 0.9787 and parameters: {'var_smoothing': 0.8607132658823184}. Best is trial 18 with value: 0.9787.\u001b[0m\n",
      "\u001b[32m[I 2021-06-07 15:05:40,843]\u001b[0m Trial 20 finished with value: 0.9787 and parameters: {'var_smoothing': 0.8293628502410056}. Best is trial 18 with value: 0.9787.\u001b[0m\n",
      "\u001b[32m[I 2021-06-07 15:05:42,126]\u001b[0m Trial 21 finished with value: 0.9785 and parameters: {'var_smoothing': 0.43801420918807066}. Best is trial 18 with value: 0.9787.\u001b[0m\n",
      "\u001b[32m[I 2021-06-07 15:05:43,417]\u001b[0m Trial 22 finished with value: 0.9786 and parameters: {'var_smoothing': 0.7271633363601119}. Best is trial 18 with value: 0.9787.\u001b[0m\n",
      "\u001b[32m[I 2021-06-07 15:05:44,690]\u001b[0m Trial 23 finished with value: 0.9782 and parameters: {'var_smoothing': 0.09664600087121632}. Best is trial 18 with value: 0.9787.\u001b[0m\n",
      "\u001b[32m[I 2021-06-07 15:05:45,977]\u001b[0m Trial 24 finished with value: 0.9782 and parameters: {'var_smoothing': 0.008882471795845413}. Best is trial 18 with value: 0.9787.\u001b[0m\n",
      "\u001b[32m[I 2021-06-07 15:05:47,252]\u001b[0m Trial 25 finished with value: 0.9787 and parameters: {'var_smoothing': 0.826262254691982}. Best is trial 18 with value: 0.9787.\u001b[0m\n",
      "\u001b[32m[I 2021-06-07 15:05:48,542]\u001b[0m Trial 26 finished with value: 0.9783 and parameters: {'var_smoothing': 0.185496885410848}. Best is trial 18 with value: 0.9787.\u001b[0m\n",
      "\u001b[32m[I 2021-06-07 15:05:49,821]\u001b[0m Trial 27 finished with value: 0.9782 and parameters: {'var_smoothing': 0.013695440905208276}. Best is trial 18 with value: 0.9787.\u001b[0m\n",
      "\u001b[32m[I 2021-06-07 15:05:51,097]\u001b[0m Trial 28 finished with value: 0.9784 and parameters: {'var_smoothing': 0.29898163179021436}. Best is trial 18 with value: 0.9787.\u001b[0m\n",
      "\u001b[32m[I 2021-06-07 15:05:52,386]\u001b[0m Trial 29 finished with value: 0.9786 and parameters: {'var_smoothing': 0.7645783673107818}. Best is trial 18 with value: 0.9787.\u001b[0m\n",
      "\u001b[32m[I 2021-06-07 15:05:53,670]\u001b[0m Trial 30 finished with value: 0.9782 and parameters: {'var_smoothing': 0.0145528951956575}. Best is trial 18 with value: 0.9787.\u001b[0m\n",
      "\u001b[32m[I 2021-06-07 15:05:54,950]\u001b[0m Trial 31 finished with value: 0.9787 and parameters: {'var_smoothing': 0.9787620751553362}. Best is trial 18 with value: 0.9787.\u001b[0m\n",
      "\u001b[32m[I 2021-06-07 15:05:56,227]\u001b[0m Trial 32 finished with value: 0.9783 and parameters: {'var_smoothing': 0.17438462521100642}. Best is trial 18 with value: 0.9787.\u001b[0m\n",
      "\u001b[32m[I 2021-06-07 15:05:57,514]\u001b[0m Trial 33 finished with value: 0.9786 and parameters: {'var_smoothing': 0.6320069304940188}. Best is trial 18 with value: 0.9787.\u001b[0m\n",
      "\u001b[32m[I 2021-06-07 15:05:58,803]\u001b[0m Trial 34 finished with value: 0.9782 and parameters: {'var_smoothing': 0.051441144691984464}. Best is trial 18 with value: 0.9787.\u001b[0m\n",
      "\u001b[32m[I 2021-06-07 15:06:00,077]\u001b[0m Trial 35 finished with value: 0.9783 and parameters: {'var_smoothing': 0.19548547395102958}. Best is trial 18 with value: 0.9787.\u001b[0m\n",
      "\u001b[32m[I 2021-06-07 15:06:01,386]\u001b[0m Trial 36 finished with value: 0.9787 and parameters: {'var_smoothing': 0.9070239698784868}. Best is trial 18 with value: 0.9787.\u001b[0m\n",
      "\u001b[32m[I 2021-06-07 15:06:02,667]\u001b[0m Trial 37 finished with value: 0.9782 and parameters: {'var_smoothing': 0.03225538476902072}. Best is trial 18 with value: 0.9787.\u001b[0m\n",
      "\u001b[32m[I 2021-06-07 15:06:03,951]\u001b[0m Trial 38 finished with value: 0.9782 and parameters: {'var_smoothing': 0.004752110899617926}. Best is trial 18 with value: 0.9787.\u001b[0m\n",
      "\u001b[32m[I 2021-06-07 15:06:05,239]\u001b[0m Trial 39 finished with value: 0.9782 and parameters: {'var_smoothing': 0.000303637856600403}. Best is trial 18 with value: 0.9787.\u001b[0m\n",
      "\u001b[32m[I 2021-06-07 15:06:06,595]\u001b[0m Trial 40 finished with value: 0.9782 and parameters: {'var_smoothing': 0.0674932233461238}. Best is trial 18 with value: 0.9787.\u001b[0m\n",
      "\u001b[32m[I 2021-06-07 15:06:08,120]\u001b[0m Trial 41 finished with value: 0.9786 and parameters: {'var_smoothing': 0.6936470650706922}. Best is trial 18 with value: 0.9787.\u001b[0m\n",
      "\u001b[32m[I 2021-06-07 15:06:09,466]\u001b[0m Trial 42 finished with value: 0.9784 and parameters: {'var_smoothing': 0.22616806991821045}. Best is trial 18 with value: 0.9787.\u001b[0m\n",
      "\u001b[32m[I 2021-06-07 15:06:10,767]\u001b[0m Trial 43 finished with value: 0.9787 and parameters: {'var_smoothing': 0.9462132452357289}. Best is trial 18 with value: 0.9787.\u001b[0m\n",
      "\u001b[32m[I 2021-06-07 15:06:12,070]\u001b[0m Trial 44 finished with value: 0.9782 and parameters: {'var_smoothing': 0.08990269607152428}. Best is trial 18 with value: 0.9787.\u001b[0m\n",
      "\u001b[32m[I 2021-06-07 15:06:13,374]\u001b[0m Trial 45 finished with value: 0.9787 and parameters: {'var_smoothing': 0.9951584196164031}. Best is trial 18 with value: 0.9787.\u001b[0m\n",
      "\u001b[32m[I 2021-06-07 15:06:14,672]\u001b[0m Trial 46 finished with value: 0.9781 and parameters: {'var_smoothing': 1.3021454470778872e-07}. Best is trial 18 with value: 0.9787.\u001b[0m\n",
      "\u001b[32m[I 2021-06-07 15:06:16,036]\u001b[0m Trial 47 finished with value: 0.9784 and parameters: {'var_smoothing': 0.28190153521825534}. Best is trial 18 with value: 0.9787.\u001b[0m\n"
     ]
    },
    {
     "name": "stderr",
     "output_type": "stream",
     "text": [
      "\u001b[32m[I 2021-06-07 15:06:17,408]\u001b[0m Trial 48 finished with value: 0.9782 and parameters: {'var_smoothing': 0.03368312232183448}. Best is trial 18 with value: 0.9787.\u001b[0m\n",
      "\u001b[32m[I 2021-06-07 15:06:18,755]\u001b[0m Trial 49 finished with value: 0.9782 and parameters: {'var_smoothing': 0.11505915054282302}. Best is trial 18 with value: 0.9787.\u001b[0m\n",
      "\u001b[32m[I 2021-06-07 15:06:20,166]\u001b[0m Trial 50 finished with value: 0.9781 and parameters: {'var_smoothing': 1.2359923716427987e-09}. Best is trial 18 with value: 0.9787.\u001b[0m\n",
      "\u001b[32m[I 2021-06-07 15:06:21,533]\u001b[0m Trial 51 finished with value: 0.9787 and parameters: {'var_smoothing': 0.908585088143744}. Best is trial 18 with value: 0.9787.\u001b[0m\n",
      "\u001b[32m[I 2021-06-07 15:06:22,985]\u001b[0m Trial 52 finished with value: 0.9785 and parameters: {'var_smoothing': 0.3800283958776737}. Best is trial 18 with value: 0.9787.\u001b[0m\n",
      "\u001b[32m[I 2021-06-07 15:06:24,323]\u001b[0m Trial 53 finished with value: 0.9787 and parameters: {'var_smoothing': 0.914148577975413}. Best is trial 18 with value: 0.9787.\u001b[0m\n",
      "\u001b[32m[I 2021-06-07 15:06:25,680]\u001b[0m Trial 54 finished with value: 0.9785 and parameters: {'var_smoothing': 0.3523760452314678}. Best is trial 18 with value: 0.9787.\u001b[0m\n",
      "\u001b[32m[I 2021-06-07 15:06:27,010]\u001b[0m Trial 55 finished with value: 0.9782 and parameters: {'var_smoothing': 0.020518869809872598}. Best is trial 18 with value: 0.9787.\u001b[0m\n",
      "\u001b[32m[I 2021-06-07 15:06:28,334]\u001b[0m Trial 56 finished with value: 0.9782 and parameters: {'var_smoothing': 0.11465439963531687}. Best is trial 18 with value: 0.9787.\u001b[0m\n",
      "\u001b[32m[I 2021-06-07 15:06:29,638]\u001b[0m Trial 57 finished with value: 0.9787 and parameters: {'var_smoothing': 0.9589505553594369}. Best is trial 18 with value: 0.9787.\u001b[0m\n",
      "\u001b[32m[I 2021-06-07 15:06:30,978]\u001b[0m Trial 58 finished with value: 0.9781 and parameters: {'var_smoothing': 1.1342921820762828e-06}. Best is trial 18 with value: 0.9787.\u001b[0m\n",
      "\u001b[32m[I 2021-06-07 15:06:32,307]\u001b[0m Trial 59 finished with value: 0.9785 and parameters: {'var_smoothing': 0.5007497461149945}. Best is trial 18 with value: 0.9787.\u001b[0m\n",
      "\u001b[32m[I 2021-06-07 15:06:33,617]\u001b[0m Trial 60 finished with value: 0.9782 and parameters: {'var_smoothing': 0.0075948555536949815}. Best is trial 18 with value: 0.9787.\u001b[0m\n",
      "\u001b[32m[I 2021-06-07 15:06:34,934]\u001b[0m Trial 61 finished with value: 0.9785 and parameters: {'var_smoothing': 0.460923130242561}. Best is trial 18 with value: 0.9787.\u001b[0m\n",
      "\u001b[32m[I 2021-06-07 15:06:36,240]\u001b[0m Trial 62 finished with value: 0.9782 and parameters: {'var_smoothing': 0.13272607900955993}. Best is trial 18 with value: 0.9787.\u001b[0m\n",
      "\u001b[32m[I 2021-06-07 15:06:37,561]\u001b[0m Trial 63 finished with value: 0.9787 and parameters: {'var_smoothing': 0.9329695020210828}. Best is trial 18 with value: 0.9787.\u001b[0m\n",
      "\u001b[32m[I 2021-06-07 15:06:38,885]\u001b[0m Trial 64 finished with value: 0.9787 and parameters: {'var_smoothing': 0.9505617492554791}. Best is trial 18 with value: 0.9787.\u001b[0m\n",
      "\u001b[32m[I 2021-06-07 15:06:40,197]\u001b[0m Trial 65 finished with value: 0.9782 and parameters: {'var_smoothing': 0.05064562705886821}. Best is trial 18 with value: 0.9787.\u001b[0m\n",
      "\u001b[32m[I 2021-06-07 15:06:41,506]\u001b[0m Trial 66 finished with value: 0.9784 and parameters: {'var_smoothing': 0.2875961118666334}. Best is trial 18 with value: 0.9787.\u001b[0m\n",
      "\u001b[32m[I 2021-06-07 15:06:42,822]\u001b[0m Trial 67 finished with value: 0.9785 and parameters: {'var_smoothing': 0.4532398586341328}. Best is trial 18 with value: 0.9787.\u001b[0m\n",
      "\u001b[32m[I 2021-06-07 15:06:44,137]\u001b[0m Trial 68 finished with value: 0.9783 and parameters: {'var_smoothing': 0.16882844336695896}. Best is trial 18 with value: 0.9787.\u001b[0m\n",
      "\u001b[32m[I 2021-06-07 15:06:45,443]\u001b[0m Trial 69 finished with value: 0.9787 and parameters: {'var_smoothing': 0.9426403599459672}. Best is trial 18 with value: 0.9787.\u001b[0m\n",
      "\u001b[32m[I 2021-06-07 15:06:46,754]\u001b[0m Trial 70 finished with value: 0.9787 and parameters: {'var_smoothing': 0.9805921307205065}. Best is trial 18 with value: 0.9787.\u001b[0m\n",
      "\u001b[32m[I 2021-06-07 15:06:48,055]\u001b[0m Trial 71 finished with value: 0.9785 and parameters: {'var_smoothing': 0.4406014797490242}. Best is trial 18 with value: 0.9787.\u001b[0m\n",
      "\u001b[32m[I 2021-06-07 15:06:49,370]\u001b[0m Trial 72 finished with value: 0.9787 and parameters: {'var_smoothing': 0.9742600315910562}. Best is trial 18 with value: 0.9787.\u001b[0m\n",
      "\u001b[32m[I 2021-06-07 15:06:50,670]\u001b[0m Trial 73 finished with value: 0.9784 and parameters: {'var_smoothing': 0.23759853429272337}. Best is trial 18 with value: 0.9787.\u001b[0m\n",
      "\u001b[32m[I 2021-06-07 15:06:51,976]\u001b[0m Trial 74 finished with value: 0.9782 and parameters: {'var_smoothing': 0.08416171315139112}. Best is trial 18 with value: 0.9787.\u001b[0m\n",
      "\u001b[32m[I 2021-06-07 15:06:53,295]\u001b[0m Trial 75 finished with value: 0.9785 and parameters: {'var_smoothing': 0.48537788338494614}. Best is trial 18 with value: 0.9787.\u001b[0m\n",
      "\u001b[32m[I 2021-06-07 15:06:54,612]\u001b[0m Trial 76 finished with value: 0.9783 and parameters: {'var_smoothing': 0.17899380185490857}. Best is trial 18 with value: 0.9787.\u001b[0m\n",
      "\u001b[32m[I 2021-06-07 15:06:55,921]\u001b[0m Trial 77 finished with value: 0.9787 and parameters: {'var_smoothing': 0.9473595651960169}. Best is trial 18 with value: 0.9787.\u001b[0m\n",
      "\u001b[32m[I 2021-06-07 15:06:57,230]\u001b[0m Trial 78 finished with value: 0.9782 and parameters: {'var_smoothing': 1.724501660432489e-05}. Best is trial 18 with value: 0.9787.\u001b[0m\n",
      "\u001b[32m[I 2021-06-07 15:06:58,524]\u001b[0m Trial 79 finished with value: 0.9782 and parameters: {'var_smoothing': 0.048321230763397956}. Best is trial 18 with value: 0.9787.\u001b[0m\n",
      "\u001b[32m[I 2021-06-07 15:06:59,834]\u001b[0m Trial 80 finished with value: 0.9786 and parameters: {'var_smoothing': 0.5709206835604345}. Best is trial 18 with value: 0.9787.\u001b[0m\n",
      "\u001b[32m[I 2021-06-07 15:07:01,185]\u001b[0m Trial 81 finished with value: 0.9787 and parameters: {'var_smoothing': 0.9925622034989244}. Best is trial 18 with value: 0.9787.\u001b[0m\n",
      "\u001b[32m[I 2021-06-07 15:07:02,489]\u001b[0m Trial 82 finished with value: 0.9785 and parameters: {'var_smoothing': 0.3244943510414747}. Best is trial 18 with value: 0.9787.\u001b[0m\n",
      "\u001b[32m[I 2021-06-07 15:07:03,792]\u001b[0m Trial 83 finished with value: 0.9786 and parameters: {'var_smoothing': 0.6056237724791709}. Best is trial 18 with value: 0.9787.\u001b[0m\n",
      "\u001b[32m[I 2021-06-07 15:07:05,104]\u001b[0m Trial 84 finished with value: 0.9783 and parameters: {'var_smoothing': 0.16563285528318633}. Best is trial 18 with value: 0.9787.\u001b[0m\n",
      "\u001b[32m[I 2021-06-07 15:07:06,404]\u001b[0m Trial 85 finished with value: 0.9787 and parameters: {'var_smoothing': 0.9724977931767499}. Best is trial 18 with value: 0.9787.\u001b[0m\n",
      "\u001b[32m[I 2021-06-07 15:07:07,720]\u001b[0m Trial 86 finished with value: 0.9784 and parameters: {'var_smoothing': 0.2852376866796698}. Best is trial 18 with value: 0.9787.\u001b[0m\n",
      "\u001b[32m[I 2021-06-07 15:07:09,019]\u001b[0m Trial 87 finished with value: 0.9782 and parameters: {'var_smoothing': 0.08395224755697729}. Best is trial 18 with value: 0.9787.\u001b[0m\n",
      "\u001b[32m[I 2021-06-07 15:07:10,326]\u001b[0m Trial 88 finished with value: 0.9786 and parameters: {'var_smoothing': 0.7076608604359597}. Best is trial 18 with value: 0.9787.\u001b[0m\n",
      "\u001b[32m[I 2021-06-07 15:07:11,633]\u001b[0m Trial 89 finished with value: 0.9782 and parameters: {'var_smoothing': 0.026098627616898847}. Best is trial 18 with value: 0.9787.\u001b[0m\n",
      "\u001b[32m[I 2021-06-07 15:07:12,954]\u001b[0m Trial 90 finished with value: 0.9782 and parameters: {'var_smoothing': 0.00021593062270144312}. Best is trial 18 with value: 0.9787.\u001b[0m\n",
      "\u001b[32m[I 2021-06-07 15:07:14,267]\u001b[0m Trial 91 finished with value: 0.9786 and parameters: {'var_smoothing': 0.5998657466175896}. Best is trial 18 with value: 0.9787.\u001b[0m\n",
      "\u001b[32m[I 2021-06-07 15:07:15,574]\u001b[0m Trial 92 finished with value: 0.9784 and parameters: {'var_smoothing': 0.29876926161403466}. Best is trial 18 with value: 0.9787.\u001b[0m\n",
      "\u001b[32m[I 2021-06-07 15:07:16,880]\u001b[0m Trial 93 finished with value: 0.9787 and parameters: {'var_smoothing': 0.8890310714172143}. Best is trial 18 with value: 0.9787.\u001b[0m\n",
      "\u001b[32m[I 2021-06-07 15:07:18,184]\u001b[0m Trial 94 finished with value: 0.9783 and parameters: {'var_smoothing': 0.21016758902568217}. Best is trial 18 with value: 0.9787.\u001b[0m\n",
      "\u001b[32m[I 2021-06-07 15:07:19,488]\u001b[0m Trial 95 finished with value: 0.9786 and parameters: {'var_smoothing': 0.6231248338315023}. Best is trial 18 with value: 0.9787.\u001b[0m\n"
     ]
    },
    {
     "name": "stderr",
     "output_type": "stream",
     "text": [
      "\u001b[32m[I 2021-06-07 15:07:20,789]\u001b[0m Trial 96 finished with value: 0.9787 and parameters: {'var_smoothing': 0.9793127005025285}. Best is trial 18 with value: 0.9787.\u001b[0m\n",
      "\u001b[32m[I 2021-06-07 15:07:22,091]\u001b[0m Trial 97 finished with value: 0.9782 and parameters: {'var_smoothing': 0.11711792499395808}. Best is trial 18 with value: 0.9787.\u001b[0m\n",
      "\u001b[32m[I 2021-06-07 15:07:23,401]\u001b[0m Trial 98 finished with value: 0.9785 and parameters: {'var_smoothing': 0.354527463830138}. Best is trial 18 with value: 0.9787.\u001b[0m\n",
      "\u001b[32m[I 2021-06-07 15:07:24,716]\u001b[0m Trial 99 finished with value: 0.9785 and parameters: {'var_smoothing': 0.43912803702252845}. Best is trial 18 with value: 0.9787.\u001b[0m\n"
     ]
    },
    {
     "name": "stdout",
     "output_type": "stream",
     "text": [
      "Precision: 0.9787\n",
      "Best hyperparameters: {'var_smoothing': 0.9912176235982135}\n"
     ]
    }
   ],
   "source": [
    "def objective(trial):\n",
    "\n",
    "        \n",
    "       \n",
    "        var_smoothing = trial.suggest_float('var_smoothing',1e-9, 1, log = True )\n",
    "        \n",
    "\n",
    "        classifier_obj = GaussianNB( var_smoothing = var_smoothing )\n",
    "        \n",
    "\n",
    "        result = cross_validation(classifier_obj, x_train_res, y_train_res, 5, df4, Verbose = False)\n",
    "        \n",
    "        return result['Recall Mean'][0]\n",
    "\n",
    "\n",
    "study = optuna.create_study(direction='maximize')\n",
    "study.optimize(objective, n_trials = 100)\n",
    "\n",
    "trial = study.best_trial\n",
    "\n",
    "print('Precision: {}'.format(trial.value))\n",
    "print(\"Best hyperparameters: {}\".format(trial.params))"
   ]
  },
  {
   "cell_type": "markdown",
   "id": "2a66fe69",
   "metadata": {},
   "source": [
    "## 10.0 FINAL MODEL"
   ]
  },
  {
   "cell_type": "code",
   "execution_count": 89,
   "id": "169b5d7f",
   "metadata": {
    "ExecuteTime": {
     "end_time": "2021-06-07T19:23:18.094978Z",
     "start_time": "2021-06-07T19:23:17.949493Z"
    }
   },
   "outputs": [],
   "source": [
    "#definition\n",
    "model_nb = GaussianNB() \n",
    "#training\n",
    "model_nb.fit( x_train_res, y_train_res.values.ravel() )\n",
    "\n",
    "# model prediction\n",
    "yhat_nb = model_nb.predict_proba(x_test)"
   ]
  },
  {
   "cell_type": "markdown",
   "id": "262cb8df",
   "metadata": {},
   "source": [
    "# 11.0 THE BUSINESS PERFORMANCE EVALUATION"
   ]
  },
  {
   "cell_type": "markdown",
   "id": "5866942b",
   "metadata": {},
   "source": [
    "## SCENARIO 1"
   ]
  },
  {
   "cell_type": "markdown",
   "id": "6f9e8e36",
   "metadata": {},
   "source": [
    "**By making 20.000 calls, which translates to about 26% of our base list, we would be able to reach about 65% of the clients who would like to purchase our insurance services.**"
   ]
  },
  {
   "cell_type": "code",
   "execution_count": 90,
   "id": "62d1dd45",
   "metadata": {
    "ExecuteTime": {
     "end_time": "2021-06-08T15:12:26.470570Z",
     "start_time": "2021-06-08T15:12:26.427130Z"
    }
   },
   "outputs": [],
   "source": [
    "data = x_test.copy()\n",
    "\n",
    "data['response'] = y_test.copy()\n",
    "data['score'] = yhat_nb[:, 1].tolist()\n",
    "data = data.sort_values('score', ascending=False)"
   ]
  },
  {
   "cell_type": "code",
   "execution_count": 92,
   "id": "7c188742",
   "metadata": {
    "ExecuteTime": {
     "end_time": "2021-06-08T15:13:23.045586Z",
     "start_time": "2021-06-08T15:13:23.037272Z"
    }
   },
   "outputs": [
    {
     "name": "stdout",
     "output_type": "stream",
     "text": [
      "0.26300562832044605\n",
      "0.6490159834728716\n"
     ]
    }
   ],
   "source": [
    "percent_of_dataset = 20000 / len(data)\n",
    "recall_at_20000 = recall_at_k(data, k = 20000)\n",
    "\n",
    "print(percent_of_dataset)\n",
    "print(recall_at_20000)"
   ]
  },
  {
   "cell_type": "code",
   "execution_count": 93,
   "id": "b1f9607b",
   "metadata": {
    "ExecuteTime": {
     "end_time": "2021-06-08T15:14:09.305922Z",
     "start_time": "2021-06-08T15:14:09.141994Z"
    }
   },
   "outputs": [
    {
     "data": {
      "image/png": "[encoded data removed]",
      "text/plain": [
       "<Figure size 576x396 with 1 Axes>"
      ]
     },
     "metadata": {},
     "output_type": "display_data"
    }
   ],
   "source": [
    "skplt.metrics.plot_cumulative_gain(y_test, yhat_nb)\n",
    "plt.axvline(0.2634, 0, 1, color='yellow', ls='--', lw=3)\n",
    "plt.show();"
   ]
  },
  {
   "cell_type": "markdown",
   "id": "2501c035",
   "metadata": {
    "ExecuteTime": {
     "end_time": "2021-06-08T15:18:23.688201Z",
     "start_time": "2021-06-08T15:18:23.685995Z"
    }
   },
   "source": [
    "## SCENARIO 2"
   ]
  },
  {
   "cell_type": "markdown",
   "id": "86aea1a5",
   "metadata": {},
   "source": [
    "**By making 25.100 calls, which translates to about 33% of our base list, we would be able to reach about 80% of the clients who would like to purchase our insurance services.**"
   ]
  },
  {
   "cell_type": "code",
   "execution_count": 95,
   "id": "523dcef1",
   "metadata": {
    "ExecuteTime": {
     "end_time": "2021-06-08T15:18:57.806361Z",
     "start_time": "2021-06-08T15:18:57.797938Z"
    }
   },
   "outputs": [
    {
     "name": "stdout",
     "output_type": "stream",
     "text": [
      "0.3300720635421598\n",
      "0.8034141567902577\n"
     ]
    }
   ],
   "source": [
    "percent_of_dataset = 25100 / len(data)\n",
    "recall_at_25100 = recall_at_k(data, k = 25100)\n",
    "\n",
    "print(percent_of_dataset)\n",
    "print(recall_at_25100)"
   ]
  },
  {
   "cell_type": "code",
   "execution_count": 96,
   "id": "a86205a6",
   "metadata": {
    "ExecuteTime": {
     "end_time": "2021-06-08T15:19:00.367970Z",
     "start_time": "2021-06-08T15:19:00.208584Z"
    }
   },
   "outputs": [
    {
     "data": {
      "image/png": "[encoded data removed]",
      "text/plain": [
       "<Figure size 576x396 with 1 Axes>"
      ]
     },
     "metadata": {},
     "output_type": "display_data"
    }
   ],
   "source": [
    "skplt.metrics.plot_cumulative_gain(y_test, yhat_nb)\n",
    "plt.axvline(0.3306, 0, 1, color='yellow', ls='--', lw=3)\n",
    "plt.show();"
   ]
  },
  {
   "cell_type": "code",
   "execution_count": 97,
   "id": "6c978ae7",
   "metadata": {
    "ExecuteTime": {
     "end_time": "2021-06-08T15:21:46.181423Z",
     "start_time": "2021-06-08T15:21:46.019283Z"
    }
   },
   "outputs": [
    {
     "data": {
      "image/png": "[encoded data removed]",
      "text/plain": [
       "<Figure size 576x396 with 1 Axes>"
      ]
     },
     "metadata": {},
     "output_type": "display_data"
    }
   ],
   "source": [
    "skplt.metrics.plot_lift_curve(y_test, yhat_nb)\n",
    "plt.axvline(0.26, 0, 1, color='yellow', ls='--', lw=3);"
   ]
  },
  {
   "cell_type": "markdown",
   "id": "1d60895b",
   "metadata": {
    "ExecuteTime": {
     "end_time": "2021-06-08T15:23:06.215833Z",
     "start_time": "2021-06-08T15:23:06.211975Z"
    }
   },
   "source": [
    "**By making around 15.000 calls, or about 20% of our base, we would be able to reach about 2.5x more clientes than if we used a random choice model**"
   ]
  },
  {
   "cell_type": "code",
   "execution_count": 99,
   "id": "142de122",
   "metadata": {
    "ExecuteTime": {
     "end_time": "2021-06-08T15:27:00.407611Z",
     "start_time": "2021-06-08T15:27:00.251700Z"
    }
   },
   "outputs": [
    {
     "data": {
      "image/png": "[encoded data removed]",
      "text/plain": [
       "<Figure size 576x396 with 1 Axes>"
      ]
     },
     "metadata": {},
     "output_type": "display_data"
    }
   ],
   "source": [
    "skplt.metrics.plot_lift_curve(y_test, yhat_nb)\n",
    "plt.axvline(0.26, 0, 1, color='yellow', ls='--', lw=3);"
   ]
  },
  {
   "cell_type": "code",
   "execution_count": 103,
   "id": "17c4f79f",
   "metadata": {
    "ExecuteTime": {
     "end_time": "2021-06-08T15:32:40.431398Z",
     "start_time": "2021-06-08T15:32:40.424767Z"
    }
   },
   "outputs": [
    {
     "data": {
      "text/plain": [
       "response\n",
       "0           66847\n",
       "1            9197\n",
       "dtype: int64"
      ]
     },
     "execution_count": 103,
     "metadata": {},
     "output_type": "execute_result"
    }
   ],
   "source": [
    "data"
   ]
  },
  {
   "cell_type": "markdown",
   "id": "62d9a5b6",
   "metadata": {},
   "source": [
    "**Baseline model would predict 26% of all people interested in insurance by making 20 thousand calls, whereas, our model, would predict 65.5%. If each insurance is 1000 this represents a diference of 29,60 million dollars in 20 thousand calls**"
   ]
  },
  {
   "cell_type": "code",
   "execution_count": 106,
   "id": "636097d7",
   "metadata": {
    "ExecuteTime": {
     "end_time": "2021-06-08T15:43:21.869633Z",
     "start_time": "2021-06-08T15:43:21.865468Z"
    }
   },
   "outputs": [
    {
     "name": "stdout",
     "output_type": "stream",
     "text": [
      "19771440 revenue with random choice\n",
      "49428600 revenue with model\n",
      "difference in $: 29657159\n"
     ]
    }
   ],
   "source": [
    "random_choice = (26/100) * len(data)\n",
    "model         = (65/100) * len(data)\n",
    "\n",
    "x = random_choice * 1000\n",
    "y = model * 1000\n",
    "\n",
    "print(str(int(x)) + ' revenue with random choice')\n",
    "print(str(int(y)) + ' revenue with model')\n",
    "\n",
    "print('difference in $: ' + str(int(y-x)) )"
   ]
  },
  {
   "cell_type": "markdown",
   "id": "3d8fbf22",
   "metadata": {
    "ExecuteTime": {
     "end_time": "2021-06-08T15:44:47.359632Z",
     "start_time": "2021-06-08T15:44:47.356170Z"
    }
   },
   "source": [
    "**With 26 thousand calls and 4 hundred, our model would predict 80% of all people interested, and the difference from baseline would rise to 35,7 million dollars**"
   ]
  },
  {
   "cell_type": "code",
   "execution_count": 101,
   "id": "7c4e331a",
   "metadata": {
    "ExecuteTime": {
     "end_time": "2021-06-08T15:32:18.496198Z",
     "start_time": "2021-06-08T15:32:18.492134Z"
    }
   },
   "outputs": [
    {
     "name": "stdout",
     "output_type": "stream",
     "text": [
      "25094520 revenue with random choice\n",
      "60835200 revenue with model\n",
      "difference in $: 35740680\n"
     ]
    }
   ],
   "source": [
    "random_choice = (33/100) * len(data)\n",
    "model         = (80/100) * len(data)\n",
    "\n",
    "x = random_choice * 1000\n",
    "y = model * 1000\n",
    "\n",
    "print(str(int(x)) + ' revenue with random choice')\n",
    "print(str(int(y)) + ' revenue with model')\n",
    "\n",
    "print('difference in $: ' + str(int(y-x)) )"
   ]
  },
  {
   "cell_type": "code",
   "execution_count": null,
   "id": "94535482",
   "metadata": {},
   "outputs": [],
   "source": []
  },
  {
   "cell_type": "code",
   "execution_count": null,
   "id": "a051b142",
   "metadata": {},
   "outputs": [],
   "source": []
  },
  {
   "cell_type": "code",
   "execution_count": null,
   "id": "c8129d46",
   "metadata": {},
   "outputs": [],
   "source": []
  }
 ],
 "metadata": {
  "kernelspec": {
   "display_name": "Python 3",
   "language": "python",
   "name": "python3"
  },
  "language_info": {
   "codemirror_mode": {
    "name": "ipython",
    "version": 3
   },
   "file_extension": ".py",
   "mimetype": "text/x-python",
   "name": "python",
   "nbconvert_exporter": "python",
   "pygments_lexer": "ipython3",
   "version": "3.8.0"
  }
 },
 "nbformat": 4,
 "nbformat_minor": 5
}
